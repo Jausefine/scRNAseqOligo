{
 "cells": [
  {
   "cell_type": "code",
   "execution_count": 1,
   "metadata": {},
   "outputs": [],
   "source": [
    "#2020Sep22. Ting Sun\n",
    "#GSE116470\n",
    "#mouse healthy samples\n",
    "#snRNA-seq\n",
    "#matix organization and seurat object forming\n",
    "\n",
    "#under sc_env"
   ]
  },
  {
   "cell_type": "code",
   "execution_count": 1,
   "metadata": {
    "scrolled": true
   },
   "outputs": [
    {
     "name": "stderr",
     "output_type": "stream",
     "text": [
      "\n",
      "Attaching package: ‘dplyr’\n",
      "\n",
      "The following objects are masked from ‘package:stats’:\n",
      "\n",
      "    filter, lag\n",
      "\n",
      "The following objects are masked from ‘package:base’:\n",
      "\n",
      "    intersect, setdiff, setequal, union\n",
      "\n",
      "\n",
      "********************************************************\n",
      "Note: As of version 1.0.0, cowplot does not change the\n",
      "  default ggplot2 theme anymore. To recover the previous\n",
      "  behavior, execute:\n",
      "  theme_set(theme_cowplot())\n",
      "********************************************************\n",
      "\n",
      "Loading required package: S4Vectors\n",
      "Loading required package: stats4\n",
      "Loading required package: BiocGenerics\n",
      "Loading required package: parallel\n",
      "\n",
      "Attaching package: ‘BiocGenerics’\n",
      "\n",
      "The following objects are masked from ‘package:parallel’:\n",
      "\n",
      "    clusterApply, clusterApplyLB, clusterCall, clusterEvalQ,\n",
      "    clusterExport, clusterMap, parApply, parCapply, parLapply,\n",
      "    parLapplyLB, parRapply, parSapply, parSapplyLB\n",
      "\n",
      "The following object is masked from ‘package:Matrix’:\n",
      "\n",
      "    which\n",
      "\n",
      "The following objects are masked from ‘package:dplyr’:\n",
      "\n",
      "    combine, intersect, setdiff, union\n",
      "\n",
      "The following objects are masked from ‘package:stats’:\n",
      "\n",
      "    IQR, mad, sd, var, xtabs\n",
      "\n",
      "The following objects are masked from ‘package:base’:\n",
      "\n",
      "    anyDuplicated, append, as.data.frame, basename, cbind, colnames,\n",
      "    dirname, do.call, duplicated, eval, evalq, Filter, Find, get, grep,\n",
      "    grepl, intersect, is.unsorted, lapply, Map, mapply, match, mget,\n",
      "    order, paste, pmax, pmax.int, pmin, pmin.int, Position, rank,\n",
      "    rbind, Reduce, rownames, sapply, setdiff, sort, table, tapply,\n",
      "    union, unique, unsplit, which, which.max, which.min\n",
      "\n",
      "\n",
      "Attaching package: ‘S4Vectors’\n",
      "\n",
      "The following object is masked from ‘package:Matrix’:\n",
      "\n",
      "    expand\n",
      "\n",
      "The following objects are masked from ‘package:dplyr’:\n",
      "\n",
      "    first, rename\n",
      "\n",
      "The following object is masked from ‘package:base’:\n",
      "\n",
      "    expand.grid\n",
      "\n",
      "Loading required package: IRanges\n",
      "\n",
      "Attaching package: ‘IRanges’\n",
      "\n",
      "The following objects are masked from ‘package:dplyr’:\n",
      "\n",
      "    collapse, desc, slice\n",
      "\n",
      "Loading required package: GenomicRanges\n",
      "Loading required package: GenomeInfoDb\n",
      "Loading required package: SummarizedExperiment\n",
      "Loading required package: Biobase\n",
      "Welcome to Bioconductor\n",
      "\n",
      "    Vignettes contain introductory material; view with\n",
      "    'browseVignettes()'. To cite Bioconductor, see\n",
      "    'citation(\"Biobase\")', and for packages 'citation(\"pkgname\")'.\n",
      "\n",
      "Loading required package: DelayedArray\n",
      "Loading required package: matrixStats\n",
      "\n",
      "Attaching package: ‘matrixStats’\n",
      "\n",
      "The following objects are masked from ‘package:Biobase’:\n",
      "\n",
      "    anyMissing, rowMedians\n",
      "\n",
      "The following object is masked from ‘package:dplyr’:\n",
      "\n",
      "    count\n",
      "\n",
      "Loading required package: BiocParallel\n",
      "\n",
      "Attaching package: ‘DelayedArray’\n",
      "\n",
      "The following objects are masked from ‘package:matrixStats’:\n",
      "\n",
      "    colMaxs, colMins, colRanges, rowMaxs, rowMins, rowRanges\n",
      "\n",
      "The following objects are masked from ‘package:base’:\n",
      "\n",
      "    aperm, apply, rowsum\n",
      "\n",
      "\n",
      "Attaching package: ‘SummarizedExperiment’\n",
      "\n",
      "The following object is masked from ‘package:Seurat’:\n",
      "\n",
      "    Assays\n",
      "\n",
      "Loading required package: SingleCellExperiment\n",
      "\n",
      "Attaching package: ‘patchwork’\n",
      "\n",
      "The following object is masked from ‘package:cowplot’:\n",
      "\n",
      "    align_plots\n",
      "\n"
     ]
    },
    {
     "ename": "ERROR",
     "evalue": "Error in library(pheatmap): there is no package called ‘pheatmap’\n",
     "output_type": "error",
     "traceback": [
      "Error in library(pheatmap): there is no package called ‘pheatmap’\nTraceback:\n",
      "1. library(pheatmap)"
     ]
    }
   ],
   "source": [
    "#for scRNA-seq objects\n",
    "library(Seurat)\n",
    "library(dplyr)\n",
    "library(Matrix)\n",
    "library(abind)\n",
    "\n",
    "#for visualization\n",
    "library(cowplot)\n",
    "library(ggplot2)\n",
    "\n",
    "#for DGE analysis\n",
    "library(DESeq2)\n",
    "library(MAST)\n",
    "library(patchwork)\n",
    "library(pheatmap)\n",
    "\n",
    "\n",
    "#normally unnecessary, for loading sparse matrix\n",
    "library(DropSeq.util)"
   ]
  },
  {
   "cell_type": "code",
   "execution_count": 3,
   "metadata": {},
   "outputs": [],
   "source": [
    "data_files<-list.files(path = \"/media/tsun/Data/Tsun/external_data/GSE116470_Mouse_Saunders_McCarroll_Cell_2018_scRNA/raw\",\n",
    "                    pattern = \"*.txt\")"
   ]
  },
  {
   "cell_type": "code",
   "execution_count": 4,
   "metadata": {},
   "outputs": [
    {
     "data": {
      "text/html": [
       "<ol class=list-inline>\n",
       "\t<li>'GSE116470_F_GRCm38.81.P60Cerebellum_ALT.raw.dge.txt'</li>\n",
       "\t<li>'GSE116470_F_GRCm38.81.P60Cortex_noRep5_FRONTALonly.raw.dge.txt'</li>\n",
       "\t<li>'GSE116470_F_GRCm38.81.P60Cortex_noRep5_POSTERIORonly.raw.dge.txt'</li>\n",
       "\t<li>'GSE116470_F_GRCm38.81.P60EntoPeduncular.raw.dge.txt'</li>\n",
       "\t<li>'GSE116470_F_GRCm38.81.P60GlobusPallidus.raw.dge.txt'</li>\n",
       "\t<li>'GSE116470_F_GRCm38.81.P60Hippocampus.raw.dge.txt'</li>\n",
       "\t<li>'GSE116470_F_GRCm38.81.P60Striatum.raw.dge.txt'</li>\n",
       "\t<li>'GSE116470_F_GRCm38.81.P60SubstantiaNigra.raw.dge.txt'</li>\n",
       "\t<li>'GSE116470_F_GRCm38.81.P60Thalamus.raw.dge.txt'</li>\n",
       "</ol>\n"
      ],
      "text/latex": [
       "\\begin{enumerate*}\n",
       "\\item 'GSE116470\\_F\\_GRCm38.81.P60Cerebellum\\_ALT.raw.dge.txt'\n",
       "\\item 'GSE116470\\_F\\_GRCm38.81.P60Cortex\\_noRep5\\_FRONTALonly.raw.dge.txt'\n",
       "\\item 'GSE116470\\_F\\_GRCm38.81.P60Cortex\\_noRep5\\_POSTERIORonly.raw.dge.txt'\n",
       "\\item 'GSE116470\\_F\\_GRCm38.81.P60EntoPeduncular.raw.dge.txt'\n",
       "\\item 'GSE116470\\_F\\_GRCm38.81.P60GlobusPallidus.raw.dge.txt'\n",
       "\\item 'GSE116470\\_F\\_GRCm38.81.P60Hippocampus.raw.dge.txt'\n",
       "\\item 'GSE116470\\_F\\_GRCm38.81.P60Striatum.raw.dge.txt'\n",
       "\\item 'GSE116470\\_F\\_GRCm38.81.P60SubstantiaNigra.raw.dge.txt'\n",
       "\\item 'GSE116470\\_F\\_GRCm38.81.P60Thalamus.raw.dge.txt'\n",
       "\\end{enumerate*}\n"
      ],
      "text/markdown": [
       "1. 'GSE116470_F_GRCm38.81.P60Cerebellum_ALT.raw.dge.txt'\n",
       "2. 'GSE116470_F_GRCm38.81.P60Cortex_noRep5_FRONTALonly.raw.dge.txt'\n",
       "3. 'GSE116470_F_GRCm38.81.P60Cortex_noRep5_POSTERIORonly.raw.dge.txt'\n",
       "4. 'GSE116470_F_GRCm38.81.P60EntoPeduncular.raw.dge.txt'\n",
       "5. 'GSE116470_F_GRCm38.81.P60GlobusPallidus.raw.dge.txt'\n",
       "6. 'GSE116470_F_GRCm38.81.P60Hippocampus.raw.dge.txt'\n",
       "7. 'GSE116470_F_GRCm38.81.P60Striatum.raw.dge.txt'\n",
       "8. 'GSE116470_F_GRCm38.81.P60SubstantiaNigra.raw.dge.txt'\n",
       "9. 'GSE116470_F_GRCm38.81.P60Thalamus.raw.dge.txt'\n",
       "\n",
       "\n"
      ],
      "text/plain": [
       "[1] \"GSE116470_F_GRCm38.81.P60Cerebellum_ALT.raw.dge.txt\"             \n",
       "[2] \"GSE116470_F_GRCm38.81.P60Cortex_noRep5_FRONTALonly.raw.dge.txt\"  \n",
       "[3] \"GSE116470_F_GRCm38.81.P60Cortex_noRep5_POSTERIORonly.raw.dge.txt\"\n",
       "[4] \"GSE116470_F_GRCm38.81.P60EntoPeduncular.raw.dge.txt\"             \n",
       "[5] \"GSE116470_F_GRCm38.81.P60GlobusPallidus.raw.dge.txt\"             \n",
       "[6] \"GSE116470_F_GRCm38.81.P60Hippocampus.raw.dge.txt\"                \n",
       "[7] \"GSE116470_F_GRCm38.81.P60Striatum.raw.dge.txt\"                   \n",
       "[8] \"GSE116470_F_GRCm38.81.P60SubstantiaNigra.raw.dge.txt\"            \n",
       "[9] \"GSE116470_F_GRCm38.81.P60Thalamus.raw.dge.txt\"                   "
      ]
     },
     "metadata": {},
     "output_type": "display_data"
    }
   ],
   "source": [
    "data_files"
   ]
  },
  {
   "cell_type": "code",
   "execution_count": 5,
   "metadata": {},
   "outputs": [],
   "source": [
    "setwd(\"/media/tsun/Data/Tsun/external_data/GSE116470_Mouse_Saunders_McCarroll_Cell_2018_scRNA/raw\")"
   ]
  },
  {
   "cell_type": "code",
   "execution_count": 6,
   "metadata": {},
   "outputs": [
    {
     "name": "stderr",
     "output_type": "stream",
     "text": [
      "Warning message in install.packages(\"/home/tsun/Downloads/DropSeq.util_2.0.tar.gz\", :\n",
      "“installation of package ‘/home/tsun/Downloads/DropSeq.util_2.0.tar.gz’ had non-zero exit status”"
     ]
    }
   ],
   "source": [
    "#according to the original paper's protocol\n",
    "#first instal customized package for installing matrix\n",
    "#reference from http://dropviz.org/\n",
    "\n",
    "#install.packages(\"/home/tsun/Downloads/DropSeq.util_2.0.tar.gz\", repos=NULL)"
   ]
  },
  {
   "cell_type": "code",
   "execution_count": 7,
   "metadata": {
    "scrolled": true
   },
   "outputs": [],
   "source": [
    "#library(DropSeq.util)"
   ]
  },
  {
   "cell_type": "code",
   "execution_count": 8,
   "metadata": {},
   "outputs": [],
   "source": [
    "dge.path2<-\"/media/tsun/Data/Tsun/external_data/GSE116470_Mouse_Saunders_McCarroll_Cell_2018_scRNA/raw/GSE116470_F_GRCm38.81.P60Thalamus.raw.dge.txt\"\n",
    "dge2<-loadSparseDge(dge.path2)"
   ]
  },
  {
   "cell_type": "code",
   "execution_count": 9,
   "metadata": {},
   "outputs": [
    {
     "name": "stdout",
     "output_type": "stream",
     "text": [
      "Formal class 'dgTMatrix' [package \"Matrix\"] with 6 slots\n",
      "  ..@ i       : int [1:96610803] 0 1 1 1 1 1 1 1 1 1 ...\n",
      "  ..@ j       : int [1:96610803] 684 1 5 6 11 13 14 15 27 30 ...\n",
      "  ..@ Dim     : int [1:2] 27385 127375\n",
      "  ..@ Dimnames:List of 2\n",
      "  .. ..$ : chr [1:27385] \"0610005C13Rik\" \"0610007P14Rik\" \"0610009B22Rik\" \"0610009E02Rik\" ...\n",
      "  .. ..$ : chr [1:127375] \"P60THRep1P1_GTGTCACGATTT\" \"P60THRep1P1_GGAGTTAGGTGT\" \"P60THRep1P1_ATTCACAATCCC\" \"P60THRep1P1_CACAATAAATTT\" ...\n",
      "  ..@ x       : num [1:96610803] 1 2 1 1 1 1 3 1 3 1 ...\n",
      "  ..@ factors : list()\n"
     ]
    }
   ],
   "source": [
    "str(dge2)"
   ]
  },
  {
   "cell_type": "code",
   "execution_count": 10,
   "metadata": {},
   "outputs": [
    {
     "data": {
      "text/html": [
       "<ol class=list-inline>\n",
       "\t<li>27385</li>\n",
       "\t<li>127375</li>\n",
       "</ol>\n"
      ],
      "text/latex": [
       "\\begin{enumerate*}\n",
       "\\item 27385\n",
       "\\item 127375\n",
       "\\end{enumerate*}\n"
      ],
      "text/markdown": [
       "1. 27385\n",
       "2. 127375\n",
       "\n",
       "\n"
      ],
      "text/plain": [
       "[1]  27385 127375"
      ]
     },
     "metadata": {},
     "output_type": "display_data"
    }
   ],
   "source": [
    "dim(dge2)"
   ]
  },
  {
   "cell_type": "code",
   "execution_count": 11,
   "metadata": {},
   "outputs": [
    {
     "data": {
      "text/html": [
       "'dgTMatrix'"
      ],
      "text/latex": [
       "'dgTMatrix'"
      ],
      "text/markdown": [
       "'dgTMatrix'"
      ],
      "text/plain": [
       "[1] \"dgTMatrix\"\n",
       "attr(,\"package\")\n",
       "[1] \"Matrix\""
      ]
     },
     "metadata": {},
     "output_type": "display_data"
    }
   ],
   "source": [
    "class(dge2)"
   ]
  },
  {
   "cell_type": "code",
   "execution_count": 12,
   "metadata": {},
   "outputs": [
    {
     "data": {
      "text/plain": [
       "6 x 6 sparse Matrix of class \"dgTMatrix\"\n",
       "              P60THRep1P1_GTGTCACGATTT P60THRep1P1_GGAGTTAGGTGT\n",
       "0610005C13Rik                        .                        .\n",
       "0610007P14Rik                        .                        2\n",
       "0610009B22Rik                        .                        .\n",
       "0610009E02Rik                        .                        .\n",
       "0610009L18Rik                        .                        .\n",
       "0610009O20Rik                        .                        .\n",
       "              P60THRep1P1_ATTCACAATCCC P60THRep1P1_CACAATAAATTT\n",
       "0610005C13Rik                        .                        .\n",
       "0610007P14Rik                        .                        .\n",
       "0610009B22Rik                        .                        .\n",
       "0610009E02Rik                        .                        .\n",
       "0610009L18Rik                        .                        .\n",
       "0610009O20Rik                        .                        1\n",
       "              P60THRep1P1_GCTTGTAGGAGA P60THRep1P1_GTCTCACTTAGT\n",
       "0610005C13Rik                        .                        .\n",
       "0610007P14Rik                        .                        1\n",
       "0610009B22Rik                        .                        .\n",
       "0610009E02Rik                        .                        .\n",
       "0610009L18Rik                        .                        .\n",
       "0610009O20Rik                        .                        ."
      ]
     },
     "metadata": {},
     "output_type": "display_data"
    }
   ],
   "source": [
    "dge2[1:6,1:6]"
   ]
  },
  {
   "cell_type": "code",
   "execution_count": 13,
   "metadata": {},
   "outputs": [],
   "source": [
    "test2<-CreateSeuratObject(dge2, assay = \"RNA\", project = \"test\")"
   ]
  },
  {
   "cell_type": "code",
   "execution_count": 14,
   "metadata": {},
   "outputs": [
    {
     "data": {
      "text/plain": [
       "An object of class Seurat \n",
       "27385 features across 127375 samples within 1 assay \n",
       "Active assay: RNA (27385 features)"
      ]
     },
     "metadata": {},
     "output_type": "display_data"
    }
   ],
   "source": [
    "test2"
   ]
  },
  {
   "cell_type": "code",
   "execution_count": 28,
   "metadata": {},
   "outputs": [
    {
     "data": {
      "text/html": [
       "<table>\n",
       "<thead><tr><th></th><th scope=col>orig.ident</th><th scope=col>nCount_RNA</th><th scope=col>nFeature_RNA</th></tr></thead>\n",
       "<tbody>\n",
       "\t<tr><th scope=row>P60THRep1P1_GTGTCACGATTT</th><td>P60THRep1P1</td><td>24716      </td><td>6549       </td></tr>\n",
       "\t<tr><th scope=row>P60THRep1P1_GGAGTTAGGTGT</th><td>P60THRep1P1</td><td>21620      </td><td>5263       </td></tr>\n",
       "\t<tr><th scope=row>P60THRep1P1_ATTCACAATCCC</th><td>P60THRep1P1</td><td>17511      </td><td>4352       </td></tr>\n",
       "\t<tr><th scope=row>P60THRep1P1_CACAATAAATTT</th><td>P60THRep1P1</td><td>17007      </td><td>4241       </td></tr>\n",
       "\t<tr><th scope=row>P60THRep1P1_GCTTGTAGGAGA</th><td>P60THRep1P1</td><td>15295      </td><td>4568       </td></tr>\n",
       "\t<tr><th scope=row>P60THRep1P1_GTCTCACTTAGT</th><td>P60THRep1P1</td><td>14451      </td><td>4245       </td></tr>\n",
       "</tbody>\n",
       "</table>\n"
      ],
      "text/latex": [
       "\\begin{tabular}{r|lll}\n",
       "  & orig.ident & nCount\\_RNA & nFeature\\_RNA\\\\\n",
       "\\hline\n",
       "\tP60THRep1P1\\_GTGTCACGATTT & P60THRep1P1 & 24716       & 6549       \\\\\n",
       "\tP60THRep1P1\\_GGAGTTAGGTGT & P60THRep1P1 & 21620       & 5263       \\\\\n",
       "\tP60THRep1P1\\_ATTCACAATCCC & P60THRep1P1 & 17511       & 4352       \\\\\n",
       "\tP60THRep1P1\\_CACAATAAATTT & P60THRep1P1 & 17007       & 4241       \\\\\n",
       "\tP60THRep1P1\\_GCTTGTAGGAGA & P60THRep1P1 & 15295       & 4568       \\\\\n",
       "\tP60THRep1P1\\_GTCTCACTTAGT & P60THRep1P1 & 14451       & 4245       \\\\\n",
       "\\end{tabular}\n"
      ],
      "text/markdown": [
       "\n",
       "| <!--/--> | orig.ident | nCount_RNA | nFeature_RNA |\n",
       "|---|---|---|---|\n",
       "| P60THRep1P1_GTGTCACGATTT | P60THRep1P1 | 24716       | 6549        |\n",
       "| P60THRep1P1_GGAGTTAGGTGT | P60THRep1P1 | 21620       | 5263        |\n",
       "| P60THRep1P1_ATTCACAATCCC | P60THRep1P1 | 17511       | 4352        |\n",
       "| P60THRep1P1_CACAATAAATTT | P60THRep1P1 | 17007       | 4241        |\n",
       "| P60THRep1P1_GCTTGTAGGAGA | P60THRep1P1 | 15295       | 4568        |\n",
       "| P60THRep1P1_GTCTCACTTAGT | P60THRep1P1 | 14451       | 4245        |\n",
       "\n"
      ],
      "text/plain": [
       "                         orig.ident  nCount_RNA nFeature_RNA\n",
       "P60THRep1P1_GTGTCACGATTT P60THRep1P1 24716      6549        \n",
       "P60THRep1P1_GGAGTTAGGTGT P60THRep1P1 21620      5263        \n",
       "P60THRep1P1_ATTCACAATCCC P60THRep1P1 17511      4352        \n",
       "P60THRep1P1_CACAATAAATTT P60THRep1P1 17007      4241        \n",
       "P60THRep1P1_GCTTGTAGGAGA P60THRep1P1 15295      4568        \n",
       "P60THRep1P1_GTCTCACTTAGT P60THRep1P1 14451      4245        "
      ]
     },
     "metadata": {},
     "output_type": "display_data"
    }
   ],
   "source": [
    "head(test2@meta.data)"
   ]
  },
  {
   "cell_type": "code",
   "execution_count": 16,
   "metadata": {},
   "outputs": [],
   "source": [
    "ting_read<-function(x){\n",
    "    dge.path<-paste0(\"/media/tsun/Data/Tsun/external_data/GSE116470_Mouse_Saunders_McCarroll_Cell_2018_scRNA/raw/\",\n",
    "                     x)\n",
    "    dge<-loadSparseDge(dge.path)\n",
    "    return(dge)\n",
    "                     }"
   ]
  },
  {
   "cell_type": "code",
   "execution_count": 17,
   "metadata": {},
   "outputs": [],
   "source": [
    "data_list<-lapply(X = data_files, FUN = ting_read)"
   ]
  },
  {
   "cell_type": "code",
   "execution_count": 18,
   "metadata": {
    "scrolled": true
   },
   "outputs": [
    {
     "name": "stdout",
     "output_type": "stream",
     "text": [
      "List of 9\n",
      " $ :Formal class 'dgTMatrix' [package \"Matrix\"] with 6 slots\n",
      "  .. ..@ i       : int [1:29200479] 0 0 0 0 0 0 0 1 1 1 ...\n",
      "  .. ..@ j       : int [1:29200479] 33 407 856 3526 5572 5619 7349 1 4 5 ...\n",
      "  .. ..@ Dim     : int [1:2] 24247 77147\n",
      "  .. ..@ Dimnames:List of 2\n",
      "  .. .. ..$ : chr [1:24247] \"0610005C13Rik\" \"0610007P14Rik\" \"0610009B22Rik\" \"0610009E02Rik\" ...\n",
      "  .. .. ..$ : chr [1:77147] \"P60CBRep1P1_GACTCTACACCC\" \"P60CBRep1P1_TATTATATCTAA\" \"P60CBRep1P1_GCGTCGCCAGTT\" \"P60CBRep1P1_CTATCGATTTCN\" ...\n",
      "  .. ..@ x       : num [1:29200479] 2 1 1 1 1 1 2 1 1 1 ...\n",
      "  .. ..@ factors : list()\n",
      " $ :Formal class 'dgTMatrix' [package \"Matrix\"] with 6 slots\n",
      "  .. ..@ i       : int [1:222528087] 0 0 0 0 0 0 0 0 0 0 ...\n",
      "  .. ..@ j       : int [1:222528087] 443 1135 2757 5319 6061 7486 7569 8116 8404 9095 ...\n",
      "  .. ..@ Dim     : int [1:2] 29463 194027\n",
      "  .. ..@ Dimnames:List of 2\n",
      "  .. .. ..$ : chr [1:29463] \"0610005C13Rik\" \"0610007P14Rik\" \"0610009B22Rik\" \"0610009E02Rik\" ...\n",
      "  .. .. ..$ : chr [1:194027] \"P60FCRep1P1_CAATCCGACAAC\" \"P60FCRep1P1_TCCCTTCAAGTA\" \"P60FCRep1P1_CACTAAAGCCAG\" \"P60FCRep1P1_ATGGTCTCAAAC\" ...\n",
      "  .. ..@ x       : num [1:222528087] 1 1 1 1 2 2 1 1 1 1 ...\n",
      "  .. ..@ factors : list()\n",
      " $ :Formal class 'dgTMatrix' [package \"Matrix\"] with 6 slots\n",
      "  .. ..@ i       : int [1:130996965] 0 0 0 0 0 0 0 0 0 0 ...\n",
      "  .. ..@ j       : int [1:130996965] 126 383 688 2096 2797 3173 3206 3322 4576 4659 ...\n",
      "  .. ..@ Dim     : int [1:2] 27720 116437\n",
      "  .. ..@ Dimnames:List of 2\n",
      "  .. .. ..$ : chr [1:27720] \"0610005C13Rik\" \"0610007P14Rik\" \"0610009B22Rik\" \"0610009E02Rik\" ...\n",
      "  .. .. ..$ : chr [1:116437] \"P60PCRep2P1_GTTTAACTCTCA\" \"P60PCRep2P1_TCGAATGTCTCT\" \"P60PCRep2P1_ACCACCCGTGTC\" \"P60PCRep2P1_ACTGGTTTAGGA\" ...\n",
      "  .. ..@ x       : num [1:130996965] 1 1 1 1 1 1 1 1 1 1 ...\n",
      "  .. ..@ factors : list()\n",
      " $ :Formal class 'dgTMatrix' [package \"Matrix\"] with 6 slots\n",
      "  .. ..@ i       : int [1:19982242] 0 0 1 1 1 1 1 1 1 1 ...\n",
      "  .. ..@ j       : int [1:19982242] 25 4741 2 4 5 6 7 8 9 10 ...\n",
      "  .. ..@ Dim     : int [1:2] 22631 33761\n",
      "  .. ..@ Dimnames:List of 2\n",
      "  .. .. ..$ : chr [1:22631] \"0610005C13Rik\" \"0610007P14Rik\" \"0610009B22Rik\" \"0610009E02Rik\" ...\n",
      "  .. .. ..$ : chr [1:33761] \"P60ENTSTNRep1P1_ATTCCCCTCGTT\" \"P60ENTSTNRep1P1_GCACGAAGCGCC\" \"P60ENTSTNRep1P1_CAATTGGTTCTT\" \"P60ENTSTNRep1P1_GGTGTCTTACCG\" ...\n",
      "  .. ..@ x       : num [1:19982242] 1 1 2 6 3 2 2 1 3 3 ...\n",
      "  .. ..@ factors : list()\n",
      " $ :Formal class 'dgTMatrix' [package \"Matrix\"] with 6 slots\n",
      "  .. ..@ i       : int [1:70895467] 0 0 0 0 0 1 1 1 1 1 ...\n",
      "  .. ..@ j       : int [1:70895467] 2220 3261 3429 5165 5310 0 1 2 4 5 ...\n",
      "  .. ..@ Dim     : int [1:2] 27091 90300\n",
      "  .. ..@ Dimnames:List of 2\n",
      "  .. .. ..$ : chr [1:27091] \"0610005C13Rik\" \"0610007P14Rik\" \"0610009B22Rik\" \"0610009E02Rik\" ...\n",
      "  .. .. ..$ : chr [1:90300] \"P60GPNBRep1P1_CATCATTCCCCT\" \"P60GPNBRep1P1_AGTGCTATGCAT\" \"P60GPNBRep1P1_AGCTCTGGAGTC\" \"P60GPNBRep1P1_TAGGCTGGGCCT\" ...\n",
      "  .. ..@ x       : num [1:70895467] 1 1 1 1 1 4 1 5 2 6 ...\n",
      "  .. ..@ factors : list()\n",
      " $ :Formal class 'dgTMatrix' [package \"Matrix\"] with 6 slots\n",
      "  .. ..@ i       : int [1:160697974] 0 0 0 0 0 0 1 1 1 1 ...\n",
      "  .. ..@ j       : int [1:160697974] 1515 1778 2704 3879 4029 4087 0 1 2 3 ...\n",
      "  .. ..@ Dim     : int [1:2] 27953 134430\n",
      "  .. ..@ Dimnames:List of 2\n",
      "  .. .. ..$ : chr [1:27953] \"0610005C13Rik\" \"0610007P14Rik\" \"0610009B22Rik\" \"0610009E02Rik\" ...\n",
      "  .. .. ..$ : chr [1:134430] \"P60HippoRep1P1_CTACGCGCATGN\" \"P60HippoRep1P1_GCGTGGCGCGTA\" \"P60HippoRep1P1_GTGCAGACGCAG\" \"P60HippoRep1P1_CGATAAATGCAT\" ...\n",
      "  .. ..@ x       : num [1:160697974] 2 1 1 1 1 1 3 1 2 4 ...\n",
      "  .. ..@ factors : list()\n",
      " $ :Formal class 'dgTMatrix' [package \"Matrix\"] with 6 slots\n",
      "  .. ..@ i       : int [1:101172128] 0 0 0 0 0 1 1 1 1 1 ...\n",
      "  .. ..@ j       : int [1:101172128] 2992 4937 5536 5646 5764 0 1 2 3 4 ...\n",
      "  .. ..@ Dim     : int [1:2] 25645 90628\n",
      "  .. ..@ Dimnames:List of 2\n",
      "  .. .. ..$ : chr [1:25645] \"0610005C13Rik\" \"0610007P14Rik\" \"0610009B22Rik\" \"0610009E02Rik\" ...\n",
      "  .. .. ..$ : chr [1:90628] \"P60STRRep1P1_AAAAGCTATGCG\" \"P60STRRep1P1_TACGTGACGCCC\" \"P60STRRep1P1_GCAAAGCCCCCN\" \"P60STRRep1P1_GCGATTCTCACT\" ...\n",
      "  .. ..@ x       : num [1:101172128] 1 1 1 1 1 1 3 2 1 4 ...\n",
      "  .. ..@ factors : list()\n",
      " $ :Formal class 'dgTMatrix' [package \"Matrix\"] with 6 slots\n",
      "  .. ..@ i       : int [1:46811251] 0 0 0 0 0 0 1 1 1 1 ...\n",
      "  .. ..@ j       : int [1:46811251] 54 364 797 1017 3689 3733 8 15 17 20 ...\n",
      "  .. ..@ Dim     : int [1:2] 26434 75384\n",
      "  .. ..@ Dimnames:List of 2\n",
      "  .. .. ..$ : chr [1:26434] \"0610005C13Rik\" \"0610007P14Rik\" \"0610009B22Rik\" \"0610009E02Rik\" ...\n",
      "  .. .. ..$ : chr [1:75384] \"P60SNRep1P1_GCGCGACCAACT\" \"P60SNRep1P1_CGTCCTACCGCT\" \"P60SNRep1P1_CGCACGTCTTCC\" \"P60SNRep1P1_GACGTTGGAATT\" ...\n",
      "  .. ..@ x       : num [1:46811251] 1 1 1 1 2 1 2 1 1 2 ...\n",
      "  .. ..@ factors : list()\n",
      " $ :Formal class 'dgTMatrix' [package \"Matrix\"] with 6 slots\n",
      "  .. ..@ i       : int [1:96610803] 0 1 1 1 1 1 1 1 1 1 ...\n",
      "  .. ..@ j       : int [1:96610803] 684 1 5 6 11 13 14 15 27 30 ...\n",
      "  .. ..@ Dim     : int [1:2] 27385 127375\n",
      "  .. ..@ Dimnames:List of 2\n",
      "  .. .. ..$ : chr [1:27385] \"0610005C13Rik\" \"0610007P14Rik\" \"0610009B22Rik\" \"0610009E02Rik\" ...\n",
      "  .. .. ..$ : chr [1:127375] \"P60THRep1P1_GTGTCACGATTT\" \"P60THRep1P1_GGAGTTAGGTGT\" \"P60THRep1P1_ATTCACAATCCC\" \"P60THRep1P1_CACAATAAATTT\" ...\n",
      "  .. ..@ x       : num [1:96610803] 1 2 1 1 1 1 3 1 3 1 ...\n",
      "  .. ..@ factors : list()\n"
     ]
    }
   ],
   "source": [
    "str(data_list)"
   ]
  },
  {
   "cell_type": "code",
   "execution_count": 19,
   "metadata": {},
   "outputs": [
    {
     "data": {
      "text/html": [
       "<ol class=list-inline>\n",
       "\t<li>'GSE116470_F_GRCm38.81.P60Cerebellum_ALT.raw.dge.txt'</li>\n",
       "\t<li>'GSE116470_F_GRCm38.81.P60Cortex_noRep5_FRONTALonly.raw.dge.txt'</li>\n",
       "\t<li>'GSE116470_F_GRCm38.81.P60Cortex_noRep5_POSTERIORonly.raw.dge.txt'</li>\n",
       "\t<li>'GSE116470_F_GRCm38.81.P60EntoPeduncular.raw.dge.txt'</li>\n",
       "\t<li>'GSE116470_F_GRCm38.81.P60GlobusPallidus.raw.dge.txt'</li>\n",
       "\t<li>'GSE116470_F_GRCm38.81.P60Hippocampus.raw.dge.txt'</li>\n",
       "\t<li>'GSE116470_F_GRCm38.81.P60Striatum.raw.dge.txt'</li>\n",
       "\t<li>'GSE116470_F_GRCm38.81.P60SubstantiaNigra.raw.dge.txt'</li>\n",
       "\t<li>'GSE116470_F_GRCm38.81.P60Thalamus.raw.dge.txt'</li>\n",
       "</ol>\n"
      ],
      "text/latex": [
       "\\begin{enumerate*}\n",
       "\\item 'GSE116470\\_F\\_GRCm38.81.P60Cerebellum\\_ALT.raw.dge.txt'\n",
       "\\item 'GSE116470\\_F\\_GRCm38.81.P60Cortex\\_noRep5\\_FRONTALonly.raw.dge.txt'\n",
       "\\item 'GSE116470\\_F\\_GRCm38.81.P60Cortex\\_noRep5\\_POSTERIORonly.raw.dge.txt'\n",
       "\\item 'GSE116470\\_F\\_GRCm38.81.P60EntoPeduncular.raw.dge.txt'\n",
       "\\item 'GSE116470\\_F\\_GRCm38.81.P60GlobusPallidus.raw.dge.txt'\n",
       "\\item 'GSE116470\\_F\\_GRCm38.81.P60Hippocampus.raw.dge.txt'\n",
       "\\item 'GSE116470\\_F\\_GRCm38.81.P60Striatum.raw.dge.txt'\n",
       "\\item 'GSE116470\\_F\\_GRCm38.81.P60SubstantiaNigra.raw.dge.txt'\n",
       "\\item 'GSE116470\\_F\\_GRCm38.81.P60Thalamus.raw.dge.txt'\n",
       "\\end{enumerate*}\n"
      ],
      "text/markdown": [
       "1. 'GSE116470_F_GRCm38.81.P60Cerebellum_ALT.raw.dge.txt'\n",
       "2. 'GSE116470_F_GRCm38.81.P60Cortex_noRep5_FRONTALonly.raw.dge.txt'\n",
       "3. 'GSE116470_F_GRCm38.81.P60Cortex_noRep5_POSTERIORonly.raw.dge.txt'\n",
       "4. 'GSE116470_F_GRCm38.81.P60EntoPeduncular.raw.dge.txt'\n",
       "5. 'GSE116470_F_GRCm38.81.P60GlobusPallidus.raw.dge.txt'\n",
       "6. 'GSE116470_F_GRCm38.81.P60Hippocampus.raw.dge.txt'\n",
       "7. 'GSE116470_F_GRCm38.81.P60Striatum.raw.dge.txt'\n",
       "8. 'GSE116470_F_GRCm38.81.P60SubstantiaNigra.raw.dge.txt'\n",
       "9. 'GSE116470_F_GRCm38.81.P60Thalamus.raw.dge.txt'\n",
       "\n",
       "\n"
      ],
      "text/plain": [
       "[1] \"GSE116470_F_GRCm38.81.P60Cerebellum_ALT.raw.dge.txt\"             \n",
       "[2] \"GSE116470_F_GRCm38.81.P60Cortex_noRep5_FRONTALonly.raw.dge.txt\"  \n",
       "[3] \"GSE116470_F_GRCm38.81.P60Cortex_noRep5_POSTERIORonly.raw.dge.txt\"\n",
       "[4] \"GSE116470_F_GRCm38.81.P60EntoPeduncular.raw.dge.txt\"             \n",
       "[5] \"GSE116470_F_GRCm38.81.P60GlobusPallidus.raw.dge.txt\"             \n",
       "[6] \"GSE116470_F_GRCm38.81.P60Hippocampus.raw.dge.txt\"                \n",
       "[7] \"GSE116470_F_GRCm38.81.P60Striatum.raw.dge.txt\"                   \n",
       "[8] \"GSE116470_F_GRCm38.81.P60SubstantiaNigra.raw.dge.txt\"            \n",
       "[9] \"GSE116470_F_GRCm38.81.P60Thalamus.raw.dge.txt\"                   "
      ]
     },
     "metadata": {},
     "output_type": "display_data"
    }
   ],
   "source": [
    "data_files"
   ]
  },
  {
   "cell_type": "code",
   "execution_count": 20,
   "metadata": {},
   "outputs": [],
   "source": [
    "brain_region_list<-c(\"Cerebellum\",\"FrontalCortex\",\"PosteriorCortex\",\n",
    "                    \"EntoPeduncular\",\"GlobusPallidus\",\n",
    "                    \"Hippocampus\",\"Striatum\",\"SubstantiaNigra\",\n",
    "                    \"Thalamus\")"
   ]
  },
  {
   "cell_type": "code",
   "execution_count": 21,
   "metadata": {},
   "outputs": [],
   "source": [
    "#create list of seurat objects\n",
    "\n",
    "seurat_list<-vector(mode = \"list\", length = 9)\n",
    "\n",
    "for(i in 1:9){\n",
    "    seurat_list[[i]]<-CreateSeuratObject(counts = data_list[[i]], \n",
    "                                         project = 'Saunders2018', \n",
    "                                         assay = 'RNA')\n",
    "    seurat_list[[i]]@meta.data$BrainRegion<-brain_region_list[[i]]\n",
    "    seurat_list[[i]]@meta.data$Study<-\"Saunders_2018\"\n",
    "    seurat_list[[i]]@meta.data$CellTypeOriginal<-NA\n",
    "    seurat_list[[i]]@meta.data$CellTypeSubcluster<-NA\n",
    "    seurat_list[[i]]@meta.data$Age<-\"P60\"\n",
    "}"
   ]
  },
  {
   "cell_type": "code",
   "execution_count": 22,
   "metadata": {
    "scrolled": true
   },
   "outputs": [
    {
     "data": {
      "text/plain": [
       "[[1]]\n",
       "An object of class Seurat \n",
       "24247 features across 77147 samples within 1 assay \n",
       "Active assay: RNA (24247 features)\n",
       "\n",
       "[[2]]\n",
       "An object of class Seurat \n",
       "29463 features across 194027 samples within 1 assay \n",
       "Active assay: RNA (29463 features)\n",
       "\n",
       "[[3]]\n",
       "An object of class Seurat \n",
       "27720 features across 116437 samples within 1 assay \n",
       "Active assay: RNA (27720 features)\n",
       "\n",
       "[[4]]\n",
       "An object of class Seurat \n",
       "22631 features across 33761 samples within 1 assay \n",
       "Active assay: RNA (22631 features)\n",
       "\n",
       "[[5]]\n",
       "An object of class Seurat \n",
       "27091 features across 90300 samples within 1 assay \n",
       "Active assay: RNA (27091 features)\n",
       "\n",
       "[[6]]\n",
       "An object of class Seurat \n",
       "27953 features across 134430 samples within 1 assay \n",
       "Active assay: RNA (27953 features)\n",
       "\n",
       "[[7]]\n",
       "An object of class Seurat \n",
       "25645 features across 90628 samples within 1 assay \n",
       "Active assay: RNA (25645 features)\n",
       "\n",
       "[[8]]\n",
       "An object of class Seurat \n",
       "26434 features across 75384 samples within 1 assay \n",
       "Active assay: RNA (26434 features)\n",
       "\n",
       "[[9]]\n",
       "An object of class Seurat \n",
       "27385 features across 127375 samples within 1 assay \n",
       "Active assay: RNA (27385 features)\n"
      ]
     },
     "metadata": {},
     "output_type": "display_data"
    },
    {
     "data": {
      "text/html": [
       "<table>\n",
       "<thead><tr><th></th><th scope=col>orig.ident</th><th scope=col>nCount_RNA</th><th scope=col>nFeature_RNA</th><th scope=col>BrainRegion</th><th scope=col>Study</th><th scope=col>CellTypeOriginal</th><th scope=col>CellTypeSubcluster</th><th scope=col>Age</th></tr></thead>\n",
       "<tbody>\n",
       "\t<tr><th scope=row>P60CBRep1P1_GACTCTACACCC</th><td>P60CBRep1P1  </td><td>11903        </td><td>3873         </td><td>Cerebellum   </td><td>Saunders_2018</td><td>NA           </td><td>NA           </td><td>P60          </td></tr>\n",
       "\t<tr><th scope=row>P60CBRep1P1_TATTATATCTAA</th><td>P60CBRep1P1  </td><td>11446        </td><td>3587         </td><td>Cerebellum   </td><td>Saunders_2018</td><td>NA           </td><td>NA           </td><td>P60          </td></tr>\n",
       "\t<tr><th scope=row>P60CBRep1P1_GCGTCGCCAGTT</th><td>P60CBRep1P1  </td><td> 9617        </td><td>3501         </td><td>Cerebellum   </td><td>Saunders_2018</td><td>NA           </td><td>NA           </td><td>P60          </td></tr>\n",
       "\t<tr><th scope=row>P60CBRep1P1_CTATCGATTTCN</th><td>P60CBRep1P1  </td><td> 9609        </td><td>3414         </td><td>Cerebellum   </td><td>Saunders_2018</td><td>NA           </td><td>NA           </td><td>P60          </td></tr>\n",
       "\t<tr><th scope=row>P60CBRep1P1_GTACCTGAGCCT</th><td>P60CBRep1P1  </td><td> 8849        </td><td>3637         </td><td>Cerebellum   </td><td>Saunders_2018</td><td>NA           </td><td>NA           </td><td>P60          </td></tr>\n",
       "\t<tr><th scope=row>P60CBRep1P1_TCGCTTAGGCAT</th><td>P60CBRep1P1  </td><td> 8088        </td><td>2508         </td><td>Cerebellum   </td><td>Saunders_2018</td><td>NA           </td><td>NA           </td><td>P60          </td></tr>\n",
       "</tbody>\n",
       "</table>\n"
      ],
      "text/latex": [
       "\\begin{tabular}{r|llllllll}\n",
       "  & orig.ident & nCount\\_RNA & nFeature\\_RNA & BrainRegion & Study & CellTypeOriginal & CellTypeSubcluster & Age\\\\\n",
       "\\hline\n",
       "\tP60CBRep1P1\\_GACTCTACACCC & P60CBRep1P1     & 11903           & 3873            & Cerebellum      & Saunders\\_2018 & NA              & NA              & P60            \\\\\n",
       "\tP60CBRep1P1\\_TATTATATCTAA & P60CBRep1P1     & 11446           & 3587            & Cerebellum      & Saunders\\_2018 & NA              & NA              & P60            \\\\\n",
       "\tP60CBRep1P1\\_GCGTCGCCAGTT & P60CBRep1P1     &  9617           & 3501            & Cerebellum      & Saunders\\_2018 & NA              & NA              & P60            \\\\\n",
       "\tP60CBRep1P1\\_CTATCGATTTCN & P60CBRep1P1     &  9609           & 3414            & Cerebellum      & Saunders\\_2018 & NA              & NA              & P60            \\\\\n",
       "\tP60CBRep1P1\\_GTACCTGAGCCT & P60CBRep1P1     &  8849           & 3637            & Cerebellum      & Saunders\\_2018 & NA              & NA              & P60            \\\\\n",
       "\tP60CBRep1P1\\_TCGCTTAGGCAT & P60CBRep1P1     &  8088           & 2508            & Cerebellum      & Saunders\\_2018 & NA              & NA              & P60            \\\\\n",
       "\\end{tabular}\n"
      ],
      "text/markdown": [
       "\n",
       "| <!--/--> | orig.ident | nCount_RNA | nFeature_RNA | BrainRegion | Study | CellTypeOriginal | CellTypeSubcluster | Age |\n",
       "|---|---|---|---|---|---|---|---|---|\n",
       "| P60CBRep1P1_GACTCTACACCC | P60CBRep1P1   | 11903         | 3873          | Cerebellum    | Saunders_2018 | NA            | NA            | P60           |\n",
       "| P60CBRep1P1_TATTATATCTAA | P60CBRep1P1   | 11446         | 3587          | Cerebellum    | Saunders_2018 | NA            | NA            | P60           |\n",
       "| P60CBRep1P1_GCGTCGCCAGTT | P60CBRep1P1   |  9617         | 3501          | Cerebellum    | Saunders_2018 | NA            | NA            | P60           |\n",
       "| P60CBRep1P1_CTATCGATTTCN | P60CBRep1P1   |  9609         | 3414          | Cerebellum    | Saunders_2018 | NA            | NA            | P60           |\n",
       "| P60CBRep1P1_GTACCTGAGCCT | P60CBRep1P1   |  8849         | 3637          | Cerebellum    | Saunders_2018 | NA            | NA            | P60           |\n",
       "| P60CBRep1P1_TCGCTTAGGCAT | P60CBRep1P1   |  8088         | 2508          | Cerebellum    | Saunders_2018 | NA            | NA            | P60           |\n",
       "\n"
      ],
      "text/plain": [
       "                         orig.ident  nCount_RNA nFeature_RNA BrainRegion\n",
       "P60CBRep1P1_GACTCTACACCC P60CBRep1P1 11903      3873         Cerebellum \n",
       "P60CBRep1P1_TATTATATCTAA P60CBRep1P1 11446      3587         Cerebellum \n",
       "P60CBRep1P1_GCGTCGCCAGTT P60CBRep1P1  9617      3501         Cerebellum \n",
       "P60CBRep1P1_CTATCGATTTCN P60CBRep1P1  9609      3414         Cerebellum \n",
       "P60CBRep1P1_GTACCTGAGCCT P60CBRep1P1  8849      3637         Cerebellum \n",
       "P60CBRep1P1_TCGCTTAGGCAT P60CBRep1P1  8088      2508         Cerebellum \n",
       "                         Study         CellTypeOriginal CellTypeSubcluster Age\n",
       "P60CBRep1P1_GACTCTACACCC Saunders_2018 NA               NA                 P60\n",
       "P60CBRep1P1_TATTATATCTAA Saunders_2018 NA               NA                 P60\n",
       "P60CBRep1P1_GCGTCGCCAGTT Saunders_2018 NA               NA                 P60\n",
       "P60CBRep1P1_CTATCGATTTCN Saunders_2018 NA               NA                 P60\n",
       "P60CBRep1P1_GTACCTGAGCCT Saunders_2018 NA               NA                 P60\n",
       "P60CBRep1P1_TCGCTTAGGCAT Saunders_2018 NA               NA                 P60"
      ]
     },
     "metadata": {},
     "output_type": "display_data"
    }
   ],
   "source": [
    "seurat_list\n",
    "head(seurat_list[[1]]@meta.data)"
   ]
  },
  {
   "cell_type": "code",
   "execution_count": 23,
   "metadata": {},
   "outputs": [],
   "source": [
    "meta_list<-list.files(path = \"/media/tsun/Data/Tsun/external_data/GSE116470_Mouse_Saunders_McCarroll_Cell_2018_scRNA/meta/cluster_rds/\",\n",
    "                    pattern = \"*.RDS\")"
   ]
  },
  {
   "cell_type": "code",
   "execution_count": 54,
   "metadata": {},
   "outputs": [
    {
     "data": {
      "text/html": [
       "<ol class=list-inline>\n",
       "\t<li>'H_1stRound_CrossTissue_Astrocytes_9-13-17.cell_cluster_outcomes.RDS'</li>\n",
       "\t<li>'H_1stRound_CrossTissue_Endothelial_5-3-17.cell_cluster_outcomes.RDS'</li>\n",
       "\t<li>'H_1stRound_CrossTissue_FibroblastLike_5-3-17.cell_cluster_outcomes.RDS'</li>\n",
       "\t<li>'H_1stRound_CrossTissue_Microglia_Macrophage_5-3-17.cell_cluster_outcomes.RDS'</li>\n",
       "\t<li>'H_1stRound_CrossTissue_Mural_5-3-17.cell_cluster_outcomes.RDS'</li>\n",
       "\t<li>'H_1stRound_CrossTissue_Oligodendrocytes_5-3-17.cell_cluster_outcomes.RDS'</li>\n",
       "\t<li>'H_1stRound_CrossTissue_Polydendrocytes_5-3-17.cell_cluster_outcomes.RDS'</li>\n",
       "</ol>\n"
      ],
      "text/latex": [
       "\\begin{enumerate*}\n",
       "\\item 'H\\_1stRound\\_CrossTissue\\_Astrocytes\\_9-13-17.cell\\_cluster\\_outcomes.RDS'\n",
       "\\item 'H\\_1stRound\\_CrossTissue\\_Endothelial\\_5-3-17.cell\\_cluster\\_outcomes.RDS'\n",
       "\\item 'H\\_1stRound\\_CrossTissue\\_FibroblastLike\\_5-3-17.cell\\_cluster\\_outcomes.RDS'\n",
       "\\item 'H\\_1stRound\\_CrossTissue\\_Microglia\\_Macrophage\\_5-3-17.cell\\_cluster\\_outcomes.RDS'\n",
       "\\item 'H\\_1stRound\\_CrossTissue\\_Mural\\_5-3-17.cell\\_cluster\\_outcomes.RDS'\n",
       "\\item 'H\\_1stRound\\_CrossTissue\\_Oligodendrocytes\\_5-3-17.cell\\_cluster\\_outcomes.RDS'\n",
       "\\item 'H\\_1stRound\\_CrossTissue\\_Polydendrocytes\\_5-3-17.cell\\_cluster\\_outcomes.RDS'\n",
       "\\end{enumerate*}\n"
      ],
      "text/markdown": [
       "1. 'H_1stRound_CrossTissue_Astrocytes_9-13-17.cell_cluster_outcomes.RDS'\n",
       "2. 'H_1stRound_CrossTissue_Endothelial_5-3-17.cell_cluster_outcomes.RDS'\n",
       "3. 'H_1stRound_CrossTissue_FibroblastLike_5-3-17.cell_cluster_outcomes.RDS'\n",
       "4. 'H_1stRound_CrossTissue_Microglia_Macrophage_5-3-17.cell_cluster_outcomes.RDS'\n",
       "5. 'H_1stRound_CrossTissue_Mural_5-3-17.cell_cluster_outcomes.RDS'\n",
       "6. 'H_1stRound_CrossTissue_Oligodendrocytes_5-3-17.cell_cluster_outcomes.RDS'\n",
       "7. 'H_1stRound_CrossTissue_Polydendrocytes_5-3-17.cell_cluster_outcomes.RDS'\n",
       "\n",
       "\n"
      ],
      "text/plain": [
       "[1] \"H_1stRound_CrossTissue_Astrocytes_9-13-17.cell_cluster_outcomes.RDS\"         \n",
       "[2] \"H_1stRound_CrossTissue_Endothelial_5-3-17.cell_cluster_outcomes.RDS\"         \n",
       "[3] \"H_1stRound_CrossTissue_FibroblastLike_5-3-17.cell_cluster_outcomes.RDS\"      \n",
       "[4] \"H_1stRound_CrossTissue_Microglia_Macrophage_5-3-17.cell_cluster_outcomes.RDS\"\n",
       "[5] \"H_1stRound_CrossTissue_Mural_5-3-17.cell_cluster_outcomes.RDS\"               \n",
       "[6] \"H_1stRound_CrossTissue_Oligodendrocytes_5-3-17.cell_cluster_outcomes.RDS\"    \n",
       "[7] \"H_1stRound_CrossTissue_Polydendrocytes_5-3-17.cell_cluster_outcomes.RDS\"     "
      ]
     },
     "metadata": {},
     "output_type": "display_data"
    }
   ],
   "source": [
    "meta_list"
   ]
  },
  {
   "cell_type": "code",
   "execution_count": 55,
   "metadata": {},
   "outputs": [],
   "source": [
    "setwd(\"/media/tsun/Data/Tsun/external_data/GSE116470_Mouse_Saunders_McCarroll_Cell_2018_scRNA/meta/cluster_rds\")\n",
    "meta<-lapply(meta_list,readRDS)"
   ]
  },
  {
   "cell_type": "code",
   "execution_count": 56,
   "metadata": {},
   "outputs": [
    {
     "data": {
      "text/html": [
       "<table>\n",
       "<thead><tr><th></th><th scope=col>cluster</th><th scope=col>subcluster</th><th scope=col>reason</th></tr></thead>\n",
       "<tbody>\n",
       "\t<tr><th scope=row>P60HippoRep1P1_GCACCGCCCGAA</th><td>1  </td><td>1-3</td><td>NA </td></tr>\n",
       "\t<tr><th scope=row>P60HippoRep1P1_TCTATGATCAAC</th><td>1  </td><td>1-3</td><td>NA </td></tr>\n",
       "\t<tr><th scope=row>P60HippoRep1P1_CAATTCGTGCCC</th><td>1  </td><td>1-2</td><td>NA </td></tr>\n",
       "\t<tr><th scope=row>P60HippoRep1P1_GGTTCGTCAGGA</th><td>1  </td><td>1-2</td><td>NA </td></tr>\n",
       "\t<tr><th scope=row>P60HippoRep1P1_TTCCACCACAAA</th><td>1  </td><td>1-2</td><td>NA </td></tr>\n",
       "\t<tr><th scope=row>P60HippoRep1P1_CTGATCGAGAAA</th><td>1  </td><td>1-3</td><td>NA </td></tr>\n",
       "</tbody>\n",
       "</table>\n"
      ],
      "text/latex": [
       "\\begin{tabular}{r|lll}\n",
       "  & cluster & subcluster & reason\\\\\n",
       "\\hline\n",
       "\tP60HippoRep1P1\\_GCACCGCCCGAA & 1   & 1-3 & NA \\\\\n",
       "\tP60HippoRep1P1\\_TCTATGATCAAC & 1   & 1-3 & NA \\\\\n",
       "\tP60HippoRep1P1\\_CAATTCGTGCCC & 1   & 1-2 & NA \\\\\n",
       "\tP60HippoRep1P1\\_GGTTCGTCAGGA & 1   & 1-2 & NA \\\\\n",
       "\tP60HippoRep1P1\\_TTCCACCACAAA & 1   & 1-2 & NA \\\\\n",
       "\tP60HippoRep1P1\\_CTGATCGAGAAA & 1   & 1-3 & NA \\\\\n",
       "\\end{tabular}\n"
      ],
      "text/markdown": [
       "\n",
       "| <!--/--> | cluster | subcluster | reason |\n",
       "|---|---|---|---|\n",
       "| P60HippoRep1P1_GCACCGCCCGAA | 1   | 1-3 | NA  |\n",
       "| P60HippoRep1P1_TCTATGATCAAC | 1   | 1-3 | NA  |\n",
       "| P60HippoRep1P1_CAATTCGTGCCC | 1   | 1-2 | NA  |\n",
       "| P60HippoRep1P1_GGTTCGTCAGGA | 1   | 1-2 | NA  |\n",
       "| P60HippoRep1P1_TTCCACCACAAA | 1   | 1-2 | NA  |\n",
       "| P60HippoRep1P1_CTGATCGAGAAA | 1   | 1-3 | NA  |\n",
       "\n"
      ],
      "text/plain": [
       "                            cluster subcluster reason\n",
       "P60HippoRep1P1_GCACCGCCCGAA 1       1-3        NA    \n",
       "P60HippoRep1P1_TCTATGATCAAC 1       1-3        NA    \n",
       "P60HippoRep1P1_CAATTCGTGCCC 1       1-2        NA    \n",
       "P60HippoRep1P1_GGTTCGTCAGGA 1       1-2        NA    \n",
       "P60HippoRep1P1_TTCCACCACAAA 1       1-2        NA    \n",
       "P60HippoRep1P1_CTGATCGAGAAA 1       1-3        NA    "
      ]
     },
     "metadata": {},
     "output_type": "display_data"
    },
    {
     "data": {
      "text/html": [
       "<ol class=list-inline>\n",
       "\t<li>&lt;NA&gt;</li>\n",
       "\t<li>doublet</li>\n",
       "\t<li>outlier</li>\n",
       "\t<li>singleton_subcluster</li>\n",
       "</ol>\n",
       "\n",
       "<details>\n",
       "\t<summary style=display:list-item;cursor:pointer>\n",
       "\t\t<strong>Levels</strong>:\n",
       "\t</summary>\n",
       "\t<ol class=list-inline>\n",
       "\t\t<li>'doublet'</li>\n",
       "\t\t<li>'outlier'</li>\n",
       "\t\t<li>'singleton_subcluster'</li>\n",
       "\t</ol>\n",
       "</details>"
      ],
      "text/latex": [
       "\\begin{enumerate*}\n",
       "\\item <NA>\n",
       "\\item doublet\n",
       "\\item outlier\n",
       "\\item singleton\\_subcluster\n",
       "\\end{enumerate*}\n",
       "\n",
       "\\emph{Levels}: \\begin{enumerate*}\n",
       "\\item 'doublet'\n",
       "\\item 'outlier'\n",
       "\\item 'singleton\\_subcluster'\n",
       "\\end{enumerate*}\n"
      ],
      "text/markdown": [
       "1. &lt;NA&gt;\n",
       "2. doublet\n",
       "3. outlier\n",
       "4. singleton_subcluster\n",
       "\n",
       "\n",
       "\n",
       "**Levels**: 1. 'doublet'\n",
       "2. 'outlier'\n",
       "3. 'singleton_subcluster'\n",
       "\n",
       "\n"
      ],
      "text/plain": [
       "[1] <NA>                 doublet              outlier             \n",
       "[4] singleton_subcluster\n",
       "Levels: doublet outlier singleton_subcluster"
      ]
     },
     "metadata": {},
     "output_type": "display_data"
    },
    {
     "data": {
      "text/html": [
       "<ol class=list-inline>\n",
       "\t<li>5357</li>\n",
       "\t<li>3</li>\n",
       "</ol>\n"
      ],
      "text/latex": [
       "\\begin{enumerate*}\n",
       "\\item 5357\n",
       "\\item 3\n",
       "\\end{enumerate*}\n"
      ],
      "text/markdown": [
       "1. 5357\n",
       "2. 3\n",
       "\n",
       "\n"
      ],
      "text/plain": [
       "[1] 5357    3"
      ]
     },
     "metadata": {},
     "output_type": "display_data"
    }
   ],
   "source": [
    "head(meta[[6]])\n",
    "unique(meta[[1]]$reason)\n",
    "dim(meta[[5]])"
   ]
  },
  {
   "cell_type": "code",
   "execution_count": null,
   "metadata": {},
   "outputs": [],
   "source": []
  },
  {
   "cell_type": "code",
   "execution_count": 57,
   "metadata": {},
   "outputs": [],
   "source": [
    "cell_type_list<-c(\"Astrocyte\",\"Endothelial\",\"FibroblastLike\",\"Microglia\",\n",
    "                 \"Mural\",\"Oligodendrocytes\",\"Polydendrocytes\")"
   ]
  },
  {
   "cell_type": "code",
   "execution_count": 58,
   "metadata": {},
   "outputs": [],
   "source": [
    "for(i in 1:7){\n",
    "    meta[[i]]$cluster<-cell_type_list[[i]]\n",
    "}"
   ]
  },
  {
   "cell_type": "code",
   "execution_count": 59,
   "metadata": {},
   "outputs": [
    {
     "data": {
      "text/html": [
       "<table>\n",
       "<thead><tr><th></th><th scope=col>cluster</th><th scope=col>subcluster</th><th scope=col>reason</th></tr></thead>\n",
       "<tbody>\n",
       "\t<tr><th scope=row>P60HippoRep1P1_TAGTCAAGCAAC</th><td>Astrocyte</td><td>1-7      </td><td>NA       </td></tr>\n",
       "\t<tr><th scope=row>P60HippoRep1P1_GGCCTCCCCTCT</th><td>Astrocyte</td><td>1-7      </td><td>NA       </td></tr>\n",
       "\t<tr><th scope=row>P60HippoRep1P1_ATTTCGCCAGCC</th><td>Astrocyte</td><td>1-7      </td><td>NA       </td></tr>\n",
       "\t<tr><th scope=row>P60HippoRep1P1_CAGTCAACTCCT</th><td>Astrocyte</td><td>1-7      </td><td>NA       </td></tr>\n",
       "\t<tr><th scope=row>P60HippoRep1P1_CCATGGTTTACN</th><td>Astrocyte</td><td>1-7      </td><td>NA       </td></tr>\n",
       "\t<tr><th scope=row>P60HippoRep1P1_TCCCGCGACGTA</th><td>Astrocyte</td><td>1-7      </td><td>NA       </td></tr>\n",
       "</tbody>\n",
       "</table>\n"
      ],
      "text/latex": [
       "\\begin{tabular}{r|lll}\n",
       "  & cluster & subcluster & reason\\\\\n",
       "\\hline\n",
       "\tP60HippoRep1P1\\_TAGTCAAGCAAC & Astrocyte & 1-7       & NA       \\\\\n",
       "\tP60HippoRep1P1\\_GGCCTCCCCTCT & Astrocyte & 1-7       & NA       \\\\\n",
       "\tP60HippoRep1P1\\_ATTTCGCCAGCC & Astrocyte & 1-7       & NA       \\\\\n",
       "\tP60HippoRep1P1\\_CAGTCAACTCCT & Astrocyte & 1-7       & NA       \\\\\n",
       "\tP60HippoRep1P1\\_CCATGGTTTACN & Astrocyte & 1-7       & NA       \\\\\n",
       "\tP60HippoRep1P1\\_TCCCGCGACGTA & Astrocyte & 1-7       & NA       \\\\\n",
       "\\end{tabular}\n"
      ],
      "text/markdown": [
       "\n",
       "| <!--/--> | cluster | subcluster | reason |\n",
       "|---|---|---|---|\n",
       "| P60HippoRep1P1_TAGTCAAGCAAC | Astrocyte | 1-7       | NA        |\n",
       "| P60HippoRep1P1_GGCCTCCCCTCT | Astrocyte | 1-7       | NA        |\n",
       "| P60HippoRep1P1_ATTTCGCCAGCC | Astrocyte | 1-7       | NA        |\n",
       "| P60HippoRep1P1_CAGTCAACTCCT | Astrocyte | 1-7       | NA        |\n",
       "| P60HippoRep1P1_CCATGGTTTACN | Astrocyte | 1-7       | NA        |\n",
       "| P60HippoRep1P1_TCCCGCGACGTA | Astrocyte | 1-7       | NA        |\n",
       "\n"
      ],
      "text/plain": [
       "                            cluster   subcluster reason\n",
       "P60HippoRep1P1_TAGTCAAGCAAC Astrocyte 1-7        NA    \n",
       "P60HippoRep1P1_GGCCTCCCCTCT Astrocyte 1-7        NA    \n",
       "P60HippoRep1P1_ATTTCGCCAGCC Astrocyte 1-7        NA    \n",
       "P60HippoRep1P1_CAGTCAACTCCT Astrocyte 1-7        NA    \n",
       "P60HippoRep1P1_CCATGGTTTACN Astrocyte 1-7        NA    \n",
       "P60HippoRep1P1_TCCCGCGACGTA Astrocyte 1-7        NA    "
      ]
     },
     "metadata": {},
     "output_type": "display_data"
    }
   ],
   "source": [
    "head(meta[[1]])"
   ]
  },
  {
   "cell_type": "code",
   "execution_count": 60,
   "metadata": {},
   "outputs": [
    {
     "data": {
      "text/html": [
       "<table>\n",
       "<thead><tr><th></th><th scope=col>cluster</th><th scope=col>subcluster</th><th scope=col>reason</th></tr></thead>\n",
       "<tbody>\n",
       "\t<tr><th scope=row>P60HippoRep1P1_TAGTCAAGCAAC</th><td>Astrocyte</td><td>1-7      </td><td>NA       </td></tr>\n",
       "\t<tr><th scope=row>P60HippoRep1P1_GGCCTCCCCTCT</th><td>Astrocyte</td><td>1-7      </td><td>NA       </td></tr>\n",
       "\t<tr><th scope=row>P60HippoRep1P1_ATTTCGCCAGCC</th><td>Astrocyte</td><td>1-7      </td><td>NA       </td></tr>\n",
       "\t<tr><th scope=row>P60HippoRep1P1_CAGTCAACTCCT</th><td>Astrocyte</td><td>1-7      </td><td>NA       </td></tr>\n",
       "\t<tr><th scope=row>P60HippoRep1P1_CCATGGTTTACN</th><td>Astrocyte</td><td>1-7      </td><td>NA       </td></tr>\n",
       "\t<tr><th scope=row>P60HippoRep1P1_TCCCGCGACGTA</th><td>Astrocyte</td><td>1-7      </td><td>NA       </td></tr>\n",
       "</tbody>\n",
       "</table>\n"
      ],
      "text/latex": [
       "\\begin{tabular}{r|lll}\n",
       "  & cluster & subcluster & reason\\\\\n",
       "\\hline\n",
       "\tP60HippoRep1P1\\_TAGTCAAGCAAC & Astrocyte & 1-7       & NA       \\\\\n",
       "\tP60HippoRep1P1\\_GGCCTCCCCTCT & Astrocyte & 1-7       & NA       \\\\\n",
       "\tP60HippoRep1P1\\_ATTTCGCCAGCC & Astrocyte & 1-7       & NA       \\\\\n",
       "\tP60HippoRep1P1\\_CAGTCAACTCCT & Astrocyte & 1-7       & NA       \\\\\n",
       "\tP60HippoRep1P1\\_CCATGGTTTACN & Astrocyte & 1-7       & NA       \\\\\n",
       "\tP60HippoRep1P1\\_TCCCGCGACGTA & Astrocyte & 1-7       & NA       \\\\\n",
       "\\end{tabular}\n"
      ],
      "text/markdown": [
       "\n",
       "| <!--/--> | cluster | subcluster | reason |\n",
       "|---|---|---|---|\n",
       "| P60HippoRep1P1_TAGTCAAGCAAC | Astrocyte | 1-7       | NA        |\n",
       "| P60HippoRep1P1_GGCCTCCCCTCT | Astrocyte | 1-7       | NA        |\n",
       "| P60HippoRep1P1_ATTTCGCCAGCC | Astrocyte | 1-7       | NA        |\n",
       "| P60HippoRep1P1_CAGTCAACTCCT | Astrocyte | 1-7       | NA        |\n",
       "| P60HippoRep1P1_CCATGGTTTACN | Astrocyte | 1-7       | NA        |\n",
       "| P60HippoRep1P1_TCCCGCGACGTA | Astrocyte | 1-7       | NA        |\n",
       "\n"
      ],
      "text/plain": [
       "                            cluster   subcluster reason\n",
       "P60HippoRep1P1_TAGTCAAGCAAC Astrocyte 1-7        NA    \n",
       "P60HippoRep1P1_GGCCTCCCCTCT Astrocyte 1-7        NA    \n",
       "P60HippoRep1P1_ATTTCGCCAGCC Astrocyte 1-7        NA    \n",
       "P60HippoRep1P1_CAGTCAACTCCT Astrocyte 1-7        NA    \n",
       "P60HippoRep1P1_CCATGGTTTACN Astrocyte 1-7        NA    \n",
       "P60HippoRep1P1_TCCCGCGACGTA Astrocyte 1-7        NA    "
      ]
     },
     "metadata": {},
     "output_type": "display_data"
    },
    {
     "data": {
      "text/html": [
       "<table>\n",
       "<thead><tr><th></th><th scope=col>cluster</th><th scope=col>subcluster</th><th scope=col>reason</th></tr></thead>\n",
       "<tbody>\n",
       "\t<tr><th scope=row>P60CBRep3P2_CGGAATCGCCAN</th><td>Endothelial</td><td>1-2        </td><td>NA         </td></tr>\n",
       "\t<tr><th scope=row>P60CBRep3P2_GCGGTATGGATT</th><td>Endothelial</td><td>1          </td><td>doublet    </td></tr>\n",
       "\t<tr><th scope=row>P60CBRep3P2_TACCTTGACTAA</th><td>Endothelial</td><td>1-5        </td><td>NA         </td></tr>\n",
       "\t<tr><th scope=row>P60CBRep3P2_TATGGACTGTCA</th><td>Endothelial</td><td>1-2        </td><td>NA         </td></tr>\n",
       "\t<tr><th scope=row>P60CBRep3P2_CAATCTAACAGC</th><td>Endothelial</td><td>1-5        </td><td>NA         </td></tr>\n",
       "\t<tr><th scope=row>P60CBRep3P2_TCCACTTATTGC</th><td>Endothelial</td><td>1-2        </td><td>NA         </td></tr>\n",
       "</tbody>\n",
       "</table>\n"
      ],
      "text/latex": [
       "\\begin{tabular}{r|lll}\n",
       "  & cluster & subcluster & reason\\\\\n",
       "\\hline\n",
       "\tP60CBRep3P2\\_CGGAATCGCCAN & Endothelial & 1-2         & NA         \\\\\n",
       "\tP60CBRep3P2\\_GCGGTATGGATT & Endothelial & 1           & doublet    \\\\\n",
       "\tP60CBRep3P2\\_TACCTTGACTAA & Endothelial & 1-5         & NA         \\\\\n",
       "\tP60CBRep3P2\\_TATGGACTGTCA & Endothelial & 1-2         & NA         \\\\\n",
       "\tP60CBRep3P2\\_CAATCTAACAGC & Endothelial & 1-5         & NA         \\\\\n",
       "\tP60CBRep3P2\\_TCCACTTATTGC & Endothelial & 1-2         & NA         \\\\\n",
       "\\end{tabular}\n"
      ],
      "text/markdown": [
       "\n",
       "| <!--/--> | cluster | subcluster | reason |\n",
       "|---|---|---|---|\n",
       "| P60CBRep3P2_CGGAATCGCCAN | Endothelial | 1-2         | NA          |\n",
       "| P60CBRep3P2_GCGGTATGGATT | Endothelial | 1           | doublet     |\n",
       "| P60CBRep3P2_TACCTTGACTAA | Endothelial | 1-5         | NA          |\n",
       "| P60CBRep3P2_TATGGACTGTCA | Endothelial | 1-2         | NA          |\n",
       "| P60CBRep3P2_CAATCTAACAGC | Endothelial | 1-5         | NA          |\n",
       "| P60CBRep3P2_TCCACTTATTGC | Endothelial | 1-2         | NA          |\n",
       "\n"
      ],
      "text/plain": [
       "                         cluster     subcluster reason \n",
       "P60CBRep3P2_CGGAATCGCCAN Endothelial 1-2        NA     \n",
       "P60CBRep3P2_GCGGTATGGATT Endothelial 1          doublet\n",
       "P60CBRep3P2_TACCTTGACTAA Endothelial 1-5        NA     \n",
       "P60CBRep3P2_TATGGACTGTCA Endothelial 1-2        NA     \n",
       "P60CBRep3P2_CAATCTAACAGC Endothelial 1-5        NA     \n",
       "P60CBRep3P2_TCCACTTATTGC Endothelial 1-2        NA     "
      ]
     },
     "metadata": {},
     "output_type": "display_data"
    }
   ],
   "source": [
    "meta.test<-rbind(meta[[1]],meta[[2]])\n",
    "head(meta.test)\n",
    "tail(meta.test)"
   ]
  },
  {
   "cell_type": "code",
   "execution_count": 61,
   "metadata": {},
   "outputs": [],
   "source": [
    "meta_all<-Reduce(function(x,y) rbind(x,y), meta)"
   ]
  },
  {
   "cell_type": "code",
   "execution_count": 62,
   "metadata": {},
   "outputs": [
    {
     "data": {
      "text/html": [
       "<ol class=list-inline>\n",
       "\t<li>109799</li>\n",
       "\t<li>3</li>\n",
       "</ol>\n"
      ],
      "text/latex": [
       "\\begin{enumerate*}\n",
       "\\item 109799\n",
       "\\item 3\n",
       "\\end{enumerate*}\n"
      ],
      "text/markdown": [
       "1. 109799\n",
       "2. 3\n",
       "\n",
       "\n"
      ],
      "text/plain": [
       "[1] 109799      3"
      ]
     },
     "metadata": {},
     "output_type": "display_data"
    }
   ],
   "source": [
    "dim(meta_all)"
   ]
  },
  {
   "cell_type": "code",
   "execution_count": 63,
   "metadata": {},
   "outputs": [
    {
     "data": {
      "text/html": [
       "<table>\n",
       "<thead><tr><th></th><th scope=col>cluster</th><th scope=col>subcluster</th><th scope=col>reason</th></tr></thead>\n",
       "<tbody>\n",
       "\t<tr><th scope=row>P60HippoRep1P1_TAGTCAAGCAAC</th><td>Astrocyte</td><td>1-7      </td><td>NA       </td></tr>\n",
       "\t<tr><th scope=row>P60HippoRep1P1_GGCCTCCCCTCT</th><td>Astrocyte</td><td>1-7      </td><td>NA       </td></tr>\n",
       "\t<tr><th scope=row>P60HippoRep1P1_ATTTCGCCAGCC</th><td>Astrocyte</td><td>1-7      </td><td>NA       </td></tr>\n",
       "\t<tr><th scope=row>P60HippoRep1P1_CAGTCAACTCCT</th><td>Astrocyte</td><td>1-7      </td><td>NA       </td></tr>\n",
       "\t<tr><th scope=row>P60HippoRep1P1_CCATGGTTTACN</th><td>Astrocyte</td><td>1-7      </td><td>NA       </td></tr>\n",
       "\t<tr><th scope=row>P60HippoRep1P1_TCCCGCGACGTA</th><td>Astrocyte</td><td>1-7      </td><td>NA       </td></tr>\n",
       "</tbody>\n",
       "</table>\n"
      ],
      "text/latex": [
       "\\begin{tabular}{r|lll}\n",
       "  & cluster & subcluster & reason\\\\\n",
       "\\hline\n",
       "\tP60HippoRep1P1\\_TAGTCAAGCAAC & Astrocyte & 1-7       & NA       \\\\\n",
       "\tP60HippoRep1P1\\_GGCCTCCCCTCT & Astrocyte & 1-7       & NA       \\\\\n",
       "\tP60HippoRep1P1\\_ATTTCGCCAGCC & Astrocyte & 1-7       & NA       \\\\\n",
       "\tP60HippoRep1P1\\_CAGTCAACTCCT & Astrocyte & 1-7       & NA       \\\\\n",
       "\tP60HippoRep1P1\\_CCATGGTTTACN & Astrocyte & 1-7       & NA       \\\\\n",
       "\tP60HippoRep1P1\\_TCCCGCGACGTA & Astrocyte & 1-7       & NA       \\\\\n",
       "\\end{tabular}\n"
      ],
      "text/markdown": [
       "\n",
       "| <!--/--> | cluster | subcluster | reason |\n",
       "|---|---|---|---|\n",
       "| P60HippoRep1P1_TAGTCAAGCAAC | Astrocyte | 1-7       | NA        |\n",
       "| P60HippoRep1P1_GGCCTCCCCTCT | Astrocyte | 1-7       | NA        |\n",
       "| P60HippoRep1P1_ATTTCGCCAGCC | Astrocyte | 1-7       | NA        |\n",
       "| P60HippoRep1P1_CAGTCAACTCCT | Astrocyte | 1-7       | NA        |\n",
       "| P60HippoRep1P1_CCATGGTTTACN | Astrocyte | 1-7       | NA        |\n",
       "| P60HippoRep1P1_TCCCGCGACGTA | Astrocyte | 1-7       | NA        |\n",
       "\n"
      ],
      "text/plain": [
       "                            cluster   subcluster reason\n",
       "P60HippoRep1P1_TAGTCAAGCAAC Astrocyte 1-7        NA    \n",
       "P60HippoRep1P1_GGCCTCCCCTCT Astrocyte 1-7        NA    \n",
       "P60HippoRep1P1_ATTTCGCCAGCC Astrocyte 1-7        NA    \n",
       "P60HippoRep1P1_CAGTCAACTCCT Astrocyte 1-7        NA    \n",
       "P60HippoRep1P1_CCATGGTTTACN Astrocyte 1-7        NA    \n",
       "P60HippoRep1P1_TCCCGCGACGTA Astrocyte 1-7        NA    "
      ]
     },
     "metadata": {},
     "output_type": "display_data"
    }
   ],
   "source": [
    "head(meta_all)"
   ]
  },
  {
   "cell_type": "code",
   "execution_count": 64,
   "metadata": {},
   "outputs": [
    {
     "data": {
      "text/html": [
       "<ol class=list-inline>\n",
       "\t<li>'Astrocyte'</li>\n",
       "\t<li>'Endothelial'</li>\n",
       "\t<li>'FibroblastLike'</li>\n",
       "\t<li>'Microglia'</li>\n",
       "\t<li>'Mural'</li>\n",
       "\t<li>'Oligodendrocytes'</li>\n",
       "\t<li>'Polydendrocytes'</li>\n",
       "</ol>\n"
      ],
      "text/latex": [
       "\\begin{enumerate*}\n",
       "\\item 'Astrocyte'\n",
       "\\item 'Endothelial'\n",
       "\\item 'FibroblastLike'\n",
       "\\item 'Microglia'\n",
       "\\item 'Mural'\n",
       "\\item 'Oligodendrocytes'\n",
       "\\item 'Polydendrocytes'\n",
       "\\end{enumerate*}\n"
      ],
      "text/markdown": [
       "1. 'Astrocyte'\n",
       "2. 'Endothelial'\n",
       "3. 'FibroblastLike'\n",
       "4. 'Microglia'\n",
       "5. 'Mural'\n",
       "6. 'Oligodendrocytes'\n",
       "7. 'Polydendrocytes'\n",
       "\n",
       "\n"
      ],
      "text/plain": [
       "[1] \"Astrocyte\"        \"Endothelial\"      \"FibroblastLike\"   \"Microglia\"       \n",
       "[5] \"Mural\"            \"Oligodendrocytes\" \"Polydendrocytes\" "
      ]
     },
     "metadata": {},
     "output_type": "display_data"
    }
   ],
   "source": [
    "unique(meta_all$cluster)"
   ]
  },
  {
   "cell_type": "code",
   "execution_count": 65,
   "metadata": {},
   "outputs": [],
   "source": [
    "#prepare merged seurat object\n",
    "seu<-merge(seurat_list[[1]],y = c(seurat_list[c(2,3,6,7)]), project = \"Saunders_2018\")"
   ]
  },
  {
   "cell_type": "code",
   "execution_count": 66,
   "metadata": {},
   "outputs": [
    {
     "data": {
      "text/plain": [
       "An object of class Seurat \n",
       "31487 features across 612669 samples within 1 assay \n",
       "Active assay: RNA (31487 features)"
      ]
     },
     "metadata": {},
     "output_type": "display_data"
    }
   ],
   "source": [
    "seu"
   ]
  },
  {
   "cell_type": "code",
   "execution_count": 67,
   "metadata": {},
   "outputs": [
    {
     "data": {
      "text/html": [
       "<table>\n",
       "<thead><tr><th></th><th scope=col>orig.ident</th><th scope=col>nCount_RNA</th><th scope=col>nFeature_RNA</th><th scope=col>BrainRegion</th><th scope=col>Study</th><th scope=col>CellTypeOriginal</th><th scope=col>CellTypeSubcluster</th><th scope=col>Age</th></tr></thead>\n",
       "<tbody>\n",
       "\t<tr><th scope=row>P60CBRep1P1_GACTCTACACCC</th><td>P60CBRep1P1  </td><td>11903        </td><td>3873         </td><td>Cerebellum   </td><td>Saunders_2018</td><td>NA           </td><td>NA           </td><td>P60          </td></tr>\n",
       "\t<tr><th scope=row>P60CBRep1P1_TATTATATCTAA</th><td>P60CBRep1P1  </td><td>11446        </td><td>3587         </td><td>Cerebellum   </td><td>Saunders_2018</td><td>NA           </td><td>NA           </td><td>P60          </td></tr>\n",
       "\t<tr><th scope=row>P60CBRep1P1_GCGTCGCCAGTT</th><td>P60CBRep1P1  </td><td> 9617        </td><td>3501         </td><td>Cerebellum   </td><td>Saunders_2018</td><td>NA           </td><td>NA           </td><td>P60          </td></tr>\n",
       "\t<tr><th scope=row>P60CBRep1P1_CTATCGATTTCN</th><td>P60CBRep1P1  </td><td> 9609        </td><td>3414         </td><td>Cerebellum   </td><td>Saunders_2018</td><td>NA           </td><td>NA           </td><td>P60          </td></tr>\n",
       "\t<tr><th scope=row>P60CBRep1P1_GTACCTGAGCCT</th><td>P60CBRep1P1  </td><td> 8849        </td><td>3637         </td><td>Cerebellum   </td><td>Saunders_2018</td><td>NA           </td><td>NA           </td><td>P60          </td></tr>\n",
       "\t<tr><th scope=row>P60CBRep1P1_TCGCTTAGGCAT</th><td>P60CBRep1P1  </td><td> 8088        </td><td>2508         </td><td>Cerebellum   </td><td>Saunders_2018</td><td>NA           </td><td>NA           </td><td>P60          </td></tr>\n",
       "</tbody>\n",
       "</table>\n"
      ],
      "text/latex": [
       "\\begin{tabular}{r|llllllll}\n",
       "  & orig.ident & nCount\\_RNA & nFeature\\_RNA & BrainRegion & Study & CellTypeOriginal & CellTypeSubcluster & Age\\\\\n",
       "\\hline\n",
       "\tP60CBRep1P1\\_GACTCTACACCC & P60CBRep1P1     & 11903           & 3873            & Cerebellum      & Saunders\\_2018 & NA              & NA              & P60            \\\\\n",
       "\tP60CBRep1P1\\_TATTATATCTAA & P60CBRep1P1     & 11446           & 3587            & Cerebellum      & Saunders\\_2018 & NA              & NA              & P60            \\\\\n",
       "\tP60CBRep1P1\\_GCGTCGCCAGTT & P60CBRep1P1     &  9617           & 3501            & Cerebellum      & Saunders\\_2018 & NA              & NA              & P60            \\\\\n",
       "\tP60CBRep1P1\\_CTATCGATTTCN & P60CBRep1P1     &  9609           & 3414            & Cerebellum      & Saunders\\_2018 & NA              & NA              & P60            \\\\\n",
       "\tP60CBRep1P1\\_GTACCTGAGCCT & P60CBRep1P1     &  8849           & 3637            & Cerebellum      & Saunders\\_2018 & NA              & NA              & P60            \\\\\n",
       "\tP60CBRep1P1\\_TCGCTTAGGCAT & P60CBRep1P1     &  8088           & 2508            & Cerebellum      & Saunders\\_2018 & NA              & NA              & P60            \\\\\n",
       "\\end{tabular}\n"
      ],
      "text/markdown": [
       "\n",
       "| <!--/--> | orig.ident | nCount_RNA | nFeature_RNA | BrainRegion | Study | CellTypeOriginal | CellTypeSubcluster | Age |\n",
       "|---|---|---|---|---|---|---|---|---|\n",
       "| P60CBRep1P1_GACTCTACACCC | P60CBRep1P1   | 11903         | 3873          | Cerebellum    | Saunders_2018 | NA            | NA            | P60           |\n",
       "| P60CBRep1P1_TATTATATCTAA | P60CBRep1P1   | 11446         | 3587          | Cerebellum    | Saunders_2018 | NA            | NA            | P60           |\n",
       "| P60CBRep1P1_GCGTCGCCAGTT | P60CBRep1P1   |  9617         | 3501          | Cerebellum    | Saunders_2018 | NA            | NA            | P60           |\n",
       "| P60CBRep1P1_CTATCGATTTCN | P60CBRep1P1   |  9609         | 3414          | Cerebellum    | Saunders_2018 | NA            | NA            | P60           |\n",
       "| P60CBRep1P1_GTACCTGAGCCT | P60CBRep1P1   |  8849         | 3637          | Cerebellum    | Saunders_2018 | NA            | NA            | P60           |\n",
       "| P60CBRep1P1_TCGCTTAGGCAT | P60CBRep1P1   |  8088         | 2508          | Cerebellum    | Saunders_2018 | NA            | NA            | P60           |\n",
       "\n"
      ],
      "text/plain": [
       "                         orig.ident  nCount_RNA nFeature_RNA BrainRegion\n",
       "P60CBRep1P1_GACTCTACACCC P60CBRep1P1 11903      3873         Cerebellum \n",
       "P60CBRep1P1_TATTATATCTAA P60CBRep1P1 11446      3587         Cerebellum \n",
       "P60CBRep1P1_GCGTCGCCAGTT P60CBRep1P1  9617      3501         Cerebellum \n",
       "P60CBRep1P1_CTATCGATTTCN P60CBRep1P1  9609      3414         Cerebellum \n",
       "P60CBRep1P1_GTACCTGAGCCT P60CBRep1P1  8849      3637         Cerebellum \n",
       "P60CBRep1P1_TCGCTTAGGCAT P60CBRep1P1  8088      2508         Cerebellum \n",
       "                         Study         CellTypeOriginal CellTypeSubcluster Age\n",
       "P60CBRep1P1_GACTCTACACCC Saunders_2018 NA               NA                 P60\n",
       "P60CBRep1P1_TATTATATCTAA Saunders_2018 NA               NA                 P60\n",
       "P60CBRep1P1_GCGTCGCCAGTT Saunders_2018 NA               NA                 P60\n",
       "P60CBRep1P1_CTATCGATTTCN Saunders_2018 NA               NA                 P60\n",
       "P60CBRep1P1_GTACCTGAGCCT Saunders_2018 NA               NA                 P60\n",
       "P60CBRep1P1_TCGCTTAGGCAT Saunders_2018 NA               NA                 P60"
      ]
     },
     "metadata": {},
     "output_type": "display_data"
    }
   ],
   "source": [
    "head(seu@meta.data)"
   ]
  },
  {
   "cell_type": "code",
   "execution_count": 68,
   "metadata": {},
   "outputs": [],
   "source": [
    "#intermediate saving step\n",
    "saveRDS(seu,\"/media/tsun/Data/Tsun/external_data/GSE116470_Mouse_Saunders_McCarroll_Cell_2018_scRNA/rds/GSE116470_Mouse_Saunders_McCarroll_Cell_2018_scRNA_5regions_merged.rds\")"
   ]
  },
  {
   "cell_type": "code",
   "execution_count": 71,
   "metadata": {},
   "outputs": [],
   "source": [
    "for(k in 1:9){\n",
    "    saveRDS(seurat_list[k], file = paste0(\"/media/tsun/Data/Tsun/external_data/GSE116470_Mouse_Saunders_McCarroll_Cell_2018_scRNA/rds/GSE116470_Mouse_Saunders_McCarroll_Cell_2018_scRNA_\",\n",
    "                            brain_region_list[[k]],\n",
    "                                           \"_raw.rds\"))\n",
    "}"
   ]
  },
  {
   "cell_type": "code",
   "execution_count": null,
   "metadata": {},
   "outputs": [],
   "source": []
  },
  {
   "cell_type": "code",
   "execution_count": null,
   "metadata": {},
   "outputs": [],
   "source": []
  },
  {
   "cell_type": "code",
   "execution_count": 72,
   "metadata": {},
   "outputs": [],
   "source": [
    "#in merged dataset\n",
    "#stack in cell population information and run until UMAP embedding\n",
    "#to cross validate\n",
    "for(i in 1:nrow(seu@meta.data)){\n",
    "    position<-match(rownames(seu@meta.data)[[i]],\n",
    "                    rownames(meta_all))\n",
    "    seu@meta.data$CellTypeOriginal[[i]]<-meta_all$cluster[position]\n",
    "}"
   ]
  },
  {
   "cell_type": "code",
   "execution_count": 73,
   "metadata": {},
   "outputs": [],
   "source": [
    "seu@meta.data.data$CellTypeOriginal[is.na(seu@meta.data$CellTypeOriginal)]<-\"Other\""
   ]
  },
  {
   "cell_type": "code",
   "execution_count": 74,
   "metadata": {},
   "outputs": [
    {
     "data": {
      "text/html": [
       "<table>\n",
       "<thead><tr><th></th><th scope=col>orig.ident</th><th scope=col>nCount_RNA</th><th scope=col>nFeature_RNA</th><th scope=col>BrainRegion</th><th scope=col>Study</th><th scope=col>CellTypeOriginal</th><th scope=col>CellTypeSubcluster</th><th scope=col>Age</th></tr></thead>\n",
       "<tbody>\n",
       "\t<tr><th scope=row>P60CBRep1P1_GACTCTACACCC</th><td>P60CBRep1P1     </td><td>11903           </td><td>3873            </td><td>Cerebellum      </td><td>Saunders_2018   </td><td>Other           </td><td>NA              </td><td>P60             </td></tr>\n",
       "\t<tr><th scope=row>P60CBRep1P1_TATTATATCTAA</th><td>P60CBRep1P1     </td><td>11446           </td><td>3587            </td><td>Cerebellum      </td><td>Saunders_2018   </td><td>Other           </td><td>NA              </td><td>P60             </td></tr>\n",
       "\t<tr><th scope=row>P60CBRep1P1_GCGTCGCCAGTT</th><td>P60CBRep1P1     </td><td> 9617           </td><td>3501            </td><td>Cerebellum      </td><td>Saunders_2018   </td><td>Endothelial     </td><td>NA              </td><td>P60             </td></tr>\n",
       "\t<tr><th scope=row>P60CBRep1P1_CTATCGATTTCN</th><td>P60CBRep1P1     </td><td> 9609           </td><td>3414            </td><td>Cerebellum      </td><td>Saunders_2018   </td><td>Other           </td><td>NA              </td><td>P60             </td></tr>\n",
       "\t<tr><th scope=row>P60CBRep1P1_GTACCTGAGCCT</th><td>P60CBRep1P1     </td><td> 8849           </td><td>3637            </td><td>Cerebellum      </td><td>Saunders_2018   </td><td>Other           </td><td>NA              </td><td>P60             </td></tr>\n",
       "\t<tr><th scope=row>P60CBRep1P1_TCGCTTAGGCAT</th><td>P60CBRep1P1     </td><td> 8088           </td><td>2508            </td><td>Cerebellum      </td><td>Saunders_2018   </td><td>Oligodendrocytes</td><td>NA              </td><td>P60             </td></tr>\n",
       "</tbody>\n",
       "</table>\n"
      ],
      "text/latex": [
       "\\begin{tabular}{r|llllllll}\n",
       "  & orig.ident & nCount\\_RNA & nFeature\\_RNA & BrainRegion & Study & CellTypeOriginal & CellTypeSubcluster & Age\\\\\n",
       "\\hline\n",
       "\tP60CBRep1P1\\_GACTCTACACCC & P60CBRep1P1      & 11903            & 3873             & Cerebellum       & Saunders\\_2018  & Other            & NA               & P60             \\\\\n",
       "\tP60CBRep1P1\\_TATTATATCTAA & P60CBRep1P1      & 11446            & 3587             & Cerebellum       & Saunders\\_2018  & Other            & NA               & P60             \\\\\n",
       "\tP60CBRep1P1\\_GCGTCGCCAGTT & P60CBRep1P1      &  9617            & 3501             & Cerebellum       & Saunders\\_2018  & Endothelial      & NA               & P60             \\\\\n",
       "\tP60CBRep1P1\\_CTATCGATTTCN & P60CBRep1P1      &  9609            & 3414             & Cerebellum       & Saunders\\_2018  & Other            & NA               & P60             \\\\\n",
       "\tP60CBRep1P1\\_GTACCTGAGCCT & P60CBRep1P1      &  8849            & 3637             & Cerebellum       & Saunders\\_2018  & Other            & NA               & P60             \\\\\n",
       "\tP60CBRep1P1\\_TCGCTTAGGCAT & P60CBRep1P1      &  8088            & 2508             & Cerebellum       & Saunders\\_2018  & Oligodendrocytes & NA               & P60             \\\\\n",
       "\\end{tabular}\n"
      ],
      "text/markdown": [
       "\n",
       "| <!--/--> | orig.ident | nCount_RNA | nFeature_RNA | BrainRegion | Study | CellTypeOriginal | CellTypeSubcluster | Age |\n",
       "|---|---|---|---|---|---|---|---|---|\n",
       "| P60CBRep1P1_GACTCTACACCC | P60CBRep1P1      | 11903            | 3873             | Cerebellum       | Saunders_2018    | Other            | NA               | P60              |\n",
       "| P60CBRep1P1_TATTATATCTAA | P60CBRep1P1      | 11446            | 3587             | Cerebellum       | Saunders_2018    | Other            | NA               | P60              |\n",
       "| P60CBRep1P1_GCGTCGCCAGTT | P60CBRep1P1      |  9617            | 3501             | Cerebellum       | Saunders_2018    | Endothelial      | NA               | P60              |\n",
       "| P60CBRep1P1_CTATCGATTTCN | P60CBRep1P1      |  9609            | 3414             | Cerebellum       | Saunders_2018    | Other            | NA               | P60              |\n",
       "| P60CBRep1P1_GTACCTGAGCCT | P60CBRep1P1      |  8849            | 3637             | Cerebellum       | Saunders_2018    | Other            | NA               | P60              |\n",
       "| P60CBRep1P1_TCGCTTAGGCAT | P60CBRep1P1      |  8088            | 2508             | Cerebellum       | Saunders_2018    | Oligodendrocytes | NA               | P60              |\n",
       "\n"
      ],
      "text/plain": [
       "                         orig.ident  nCount_RNA nFeature_RNA BrainRegion\n",
       "P60CBRep1P1_GACTCTACACCC P60CBRep1P1 11903      3873         Cerebellum \n",
       "P60CBRep1P1_TATTATATCTAA P60CBRep1P1 11446      3587         Cerebellum \n",
       "P60CBRep1P1_GCGTCGCCAGTT P60CBRep1P1  9617      3501         Cerebellum \n",
       "P60CBRep1P1_CTATCGATTTCN P60CBRep1P1  9609      3414         Cerebellum \n",
       "P60CBRep1P1_GTACCTGAGCCT P60CBRep1P1  8849      3637         Cerebellum \n",
       "P60CBRep1P1_TCGCTTAGGCAT P60CBRep1P1  8088      2508         Cerebellum \n",
       "                         Study         CellTypeOriginal CellTypeSubcluster Age\n",
       "P60CBRep1P1_GACTCTACACCC Saunders_2018 Other            NA                 P60\n",
       "P60CBRep1P1_TATTATATCTAA Saunders_2018 Other            NA                 P60\n",
       "P60CBRep1P1_GCGTCGCCAGTT Saunders_2018 Endothelial      NA                 P60\n",
       "P60CBRep1P1_CTATCGATTTCN Saunders_2018 Other            NA                 P60\n",
       "P60CBRep1P1_GTACCTGAGCCT Saunders_2018 Other            NA                 P60\n",
       "P60CBRep1P1_TCGCTTAGGCAT Saunders_2018 Oligodendrocytes NA                 P60"
      ]
     },
     "metadata": {},
     "output_type": "display_data"
    },
    {
     "data": {
      "text/html": [
       "<ol class=list-inline>\n",
       "\t<li>'Other'</li>\n",
       "\t<li>'Endothelial'</li>\n",
       "\t<li>'Oligodendrocytes'</li>\n",
       "\t<li>'Astrocyte'</li>\n",
       "\t<li>'Mural'</li>\n",
       "\t<li>'Microglia'</li>\n",
       "\t<li>'Polydendrocytes'</li>\n",
       "\t<li>'FibroblastLike'</li>\n",
       "</ol>\n"
      ],
      "text/latex": [
       "\\begin{enumerate*}\n",
       "\\item 'Other'\n",
       "\\item 'Endothelial'\n",
       "\\item 'Oligodendrocytes'\n",
       "\\item 'Astrocyte'\n",
       "\\item 'Mural'\n",
       "\\item 'Microglia'\n",
       "\\item 'Polydendrocytes'\n",
       "\\item 'FibroblastLike'\n",
       "\\end{enumerate*}\n"
      ],
      "text/markdown": [
       "1. 'Other'\n",
       "2. 'Endothelial'\n",
       "3. 'Oligodendrocytes'\n",
       "4. 'Astrocyte'\n",
       "5. 'Mural'\n",
       "6. 'Microglia'\n",
       "7. 'Polydendrocytes'\n",
       "8. 'FibroblastLike'\n",
       "\n",
       "\n"
      ],
      "text/plain": [
       "[1] \"Other\"            \"Endothelial\"      \"Oligodendrocytes\" \"Astrocyte\"       \n",
       "[5] \"Mural\"            \"Microglia\"        \"Polydendrocytes\"  \"FibroblastLike\"  "
      ]
     },
     "metadata": {},
     "output_type": "display_data"
    }
   ],
   "source": [
    "head(seu@meta.data)\n",
    "unique(seu@meta.data$CellTypeOriginal)"
   ]
  },
  {
   "cell_type": "code",
   "execution_count": 76,
   "metadata": {},
   "outputs": [],
   "source": [
    "seu@meta.data$CellType<-seu@meta.data$CellTypeOriginal"
   ]
  },
  {
   "cell_type": "code",
   "execution_count": 77,
   "metadata": {},
   "outputs": [],
   "source": [
    "seu@meta.data$CellType<-gsub(\"Oligodendrocytes\",\"MOL\",\n",
    "                            seu@meta.data$CellType)"
   ]
  },
  {
   "cell_type": "code",
   "execution_count": 78,
   "metadata": {},
   "outputs": [
    {
     "data": {
      "text/html": [
       "<ol class=list-inline>\n",
       "\t<li>'Other'</li>\n",
       "\t<li>'Endothelial'</li>\n",
       "\t<li>'MOL'</li>\n",
       "\t<li>'Astrocyte'</li>\n",
       "\t<li>'Mural'</li>\n",
       "\t<li>'Microglia'</li>\n",
       "\t<li>'Polydendrocytes'</li>\n",
       "\t<li>'FibroblastLike'</li>\n",
       "</ol>\n"
      ],
      "text/latex": [
       "\\begin{enumerate*}\n",
       "\\item 'Other'\n",
       "\\item 'Endothelial'\n",
       "\\item 'MOL'\n",
       "\\item 'Astrocyte'\n",
       "\\item 'Mural'\n",
       "\\item 'Microglia'\n",
       "\\item 'Polydendrocytes'\n",
       "\\item 'FibroblastLike'\n",
       "\\end{enumerate*}\n"
      ],
      "text/markdown": [
       "1. 'Other'\n",
       "2. 'Endothelial'\n",
       "3. 'MOL'\n",
       "4. 'Astrocyte'\n",
       "5. 'Mural'\n",
       "6. 'Microglia'\n",
       "7. 'Polydendrocytes'\n",
       "8. 'FibroblastLike'\n",
       "\n",
       "\n"
      ],
      "text/plain": [
       "[1] \"Other\"           \"Endothelial\"     \"MOL\"             \"Astrocyte\"      \n",
       "[5] \"Mural\"           \"Microglia\"       \"Polydendrocytes\" \"FibroblastLike\" "
      ]
     },
     "metadata": {},
     "output_type": "display_data"
    }
   ],
   "source": [
    "unique(seu@meta.data$CellType)"
   ]
  },
  {
   "cell_type": "code",
   "execution_count": 79,
   "metadata": {},
   "outputs": [],
   "source": [
    "saveRDS(seu,\"/media/tsun/Data/Tsun/external_data/GSE116470_Mouse_Saunders_McCarroll_Cell_2018_scRNA/rds/GSE116470_Mouse_Saunders_McCarroll_Cell_2018_scRNA_5regions_merged.rds\")"
   ]
  },
  {
   "cell_type": "code",
   "execution_count": null,
   "metadata": {},
   "outputs": [],
   "source": []
  },
  {
   "cell_type": "code",
   "execution_count": null,
   "metadata": {},
   "outputs": [],
   "source": []
  },
  {
   "cell_type": "code",
   "execution_count": null,
   "metadata": {},
   "outputs": [],
   "source": []
  },
  {
   "cell_type": "code",
   "execution_count": null,
   "metadata": {},
   "outputs": [],
   "source": []
  },
  {
   "cell_type": "code",
   "execution_count": null,
   "metadata": {},
   "outputs": [],
   "source": []
  },
  {
   "cell_type": "code",
   "execution_count": null,
   "metadata": {},
   "outputs": [],
   "source": []
  },
  {
   "cell_type": "code",
   "execution_count": null,
   "metadata": {},
   "outputs": [],
   "source": []
  },
  {
   "cell_type": "code",
   "execution_count": null,
   "metadata": {},
   "outputs": [],
   "source": []
  },
  {
   "cell_type": "code",
   "execution_count": null,
   "metadata": {},
   "outputs": [],
   "source": []
  },
  {
   "cell_type": "code",
   "execution_count": null,
   "metadata": {},
   "outputs": [],
   "source": []
  },
  {
   "cell_type": "code",
   "execution_count": null,
   "metadata": {},
   "outputs": [],
   "source": []
  },
  {
   "cell_type": "code",
   "execution_count": null,
   "metadata": {},
   "outputs": [],
   "source": []
  },
  {
   "cell_type": "code",
   "execution_count": null,
   "metadata": {},
   "outputs": [],
   "source": []
  },
  {
   "cell_type": "code",
   "execution_count": null,
   "metadata": {},
   "outputs": [],
   "source": []
  },
  {
   "cell_type": "code",
   "execution_count": null,
   "metadata": {},
   "outputs": [],
   "source": []
  },
  {
   "cell_type": "code",
   "execution_count": null,
   "metadata": {},
   "outputs": [],
   "source": []
  },
  {
   "cell_type": "code",
   "execution_count": null,
   "metadata": {},
   "outputs": [],
   "source": []
  },
  {
   "cell_type": "code",
   "execution_count": null,
   "metadata": {},
   "outputs": [],
   "source": []
  },
  {
   "cell_type": "code",
   "execution_count": null,
   "metadata": {},
   "outputs": [],
   "source": []
  },
  {
   "cell_type": "code",
   "execution_count": null,
   "metadata": {},
   "outputs": [],
   "source": []
  }
 ],
 "metadata": {
  "kernelspec": {
   "display_name": "Python 3",
   "language": "python",
   "name": "python3"
  },
  "language_info": {
   "codemirror_mode": {
    "name": "ipython",
    "version": 3
   },
   "file_extension": ".py",
   "mimetype": "text/x-python",
   "name": "python",
   "nbconvert_exporter": "python",
   "pygments_lexer": "ipython3",
   "version": "3.8.5"
  }
 },
 "nbformat": 4,
 "nbformat_minor": 2
}
