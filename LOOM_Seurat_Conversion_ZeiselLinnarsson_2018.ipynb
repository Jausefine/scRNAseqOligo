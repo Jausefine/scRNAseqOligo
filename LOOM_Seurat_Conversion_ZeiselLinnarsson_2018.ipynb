{
 "cells": [
  {
   "cell_type": "code",
   "execution_count": null,
   "metadata": {},
   "outputs": [],
   "source": [
    "# Conversion from LOOM to Seurat object; Zeisel et al. 2018 dataset\n",
    "# Followed tutorial from Satija lab; \n",
    "# https://satijalab.org/seurat/articles/conversion_vignette.html\n",
    "#\n",
    "# Seurat R package (Version 3.1.4)\n",
    "# Subsequent pre-processing \n"
   ]
  },
  {
   "cell_type": "code",
   "execution_count": null,
   "metadata": {},
   "outputs": [],
   "source": [
    "#Library\n",
    "library(scater)\n",
    "library(loomR)\n",
    "library(Seurat)\n",
    "library(patchwork)"
   ]
  },
  {
   "cell_type": "code",
   "execution_count": 2,
   "metadata": {},
   "outputs": [
    {
     "data": {
      "text/plain": [
       "Class: loom\n",
       "Filename: /media/reuschenbach/Data/Masterthesis/l5_all.loom\n",
       "Access type: H5F_ACC_RDONLY\n",
       "Attributes: CreationDate, last_modified\n",
       "Listing:\n",
       "       name    obj_type   dataset.dims dataset.type_class\n",
       "  col_attrs   H5I_GROUP           <NA>               <NA>\n",
       " col_graphs   H5I_GROUP           <NA>               <NA>\n",
       "     layers   H5I_GROUP           <NA>               <NA>\n",
       "     matrix H5I_DATASET 160796 x 27998          H5T_FLOAT\n",
       "  row_attrs   H5I_GROUP           <NA>               <NA>\n",
       " row_graphs   H5I_GROUP           <NA>               <NA>"
      ]
     },
     "metadata": {},
     "output_type": "display_data"
    }
   ],
   "source": [
    "zeisel <- connect(filename = \"/media/reuschenbach/Data/Masterthesis/l5_all.loom\", mode = \"r\")\n",
    "zeisel"
   ]
  },
  {
   "cell_type": "code",
   "execution_count": 3,
   "metadata": {},
   "outputs": [
    {
     "name": "stderr",
     "output_type": "stream",
     "text": [
      "Pulling counts matrix\n",
      "Warning message:\n",
      "“Non-unique features (rownames) present in the input matrix, making unique”Warning message:\n",
      "“Non-unique cell names (colnames) present in the input matrix, making unique”No normalized data provided, not adding scaled data\n",
      "No scaled data provided\n",
      "Setting cluster IDs\n",
      "No scaled data, not searching for dimensional reduction information\n",
      "No scaled data, not searching for nearest neighbor graphs\n"
     ]
    }
   ],
   "source": [
    "zeis <- as.Seurat(zeisel)\n"
   ]
  },
  {
   "cell_type": "code",
   "execution_count": 4,
   "metadata": {},
   "outputs": [],
   "source": [
    "\n",
    "saveRDS(zeis, file = \"Zeisel2018\")"
   ]
  },
  {
   "cell_type": "code",
   "execution_count": 4,
   "metadata": {},
   "outputs": [
    {
     "data": {
      "text/plain": [
       "An object of class Seurat \n",
       "27998 features across 160796 samples within 1 assay \n",
       "Active assay: RNA (27998 features, 0 variable features)"
      ]
     },
     "metadata": {},
     "output_type": "display_data"
    }
   ],
   "source": [
    "zeis"
   ]
  },
  {
   "cell_type": "code",
   "execution_count": 5,
   "metadata": {},
   "outputs": [
    {
     "data": {
      "text/html": [
       "<table>\n",
       "<thead><tr><th></th><th scope=col>orig.ident</th><th scope=col>nCount_RNA</th><th scope=col>nFeature_RNA</th><th scope=col>Age</th><th scope=col>AnalysisPool</th><th scope=col>AnalysisProject</th><th scope=col>Bucket</th><th scope=col>CellConc</th><th scope=col>Cell_Conc</th><th scope=col>ChipID</th><th scope=col>...</th><th scope=col>X_Total</th><th scope=col>X_Valid</th><th scope=col>X_X</th><th scope=col>X_Y</th><th scope=col>X_tSNE1</th><th scope=col>X_tSNE2</th><th scope=col>cDNAConcNanogramPerMicroliter</th><th scope=col>cDNALibOk</th><th scope=col>cDNA_Lib_Ok</th><th scope=col>ngperul_cDNA</th></tr></thead>\n",
       "<tbody>\n",
       "\t<tr><th scope=row>10X82_2_TCTCTCACCAGTTA-</th><td>10X82                                             </td><td>19065                                             </td><td>4966                                              </td><td>p21, p23                                          </td><td>Enteric                                           </td><td>Adolescent                                        </td><td>/Users/sten/build_20171205/L4_Enteric_Neurons.loom</td><td>1000                                              </td><td>1000                                              </td><td>10X82                                             </td><td>...                                               </td><td>19065                                             </td><td>1                                                 </td><td>32.19325                                          </td><td>57.79691                                          </td><td>-25.77720                                         </td><td>33.12547                                          </td><td>7.4                                               </td><td>Y                                                 </td><td>Y                                                 </td><td>7,4                                               </td></tr>\n",
       "\t<tr><th scope=row>10X82_2_TATTATCTACCAGA-</th><td>10X82                                             </td><td>21617                                             </td><td>5170                                              </td><td>p21, p23                                          </td><td>Enteric                                           </td><td>Adolescent                                        </td><td>/Users/sten/build_20171205/L4_Enteric_Neurons.loom</td><td>1000                                              </td><td>1000                                              </td><td>10X82                                             </td><td>...                                               </td><td>21617                                             </td><td>1                                                 </td><td>32.22355                                          </td><td>57.31415                                          </td><td>-25.66751                                         </td><td>33.25327                                          </td><td>7.4                                               </td><td>Y                                                 </td><td>Y                                                 </td><td>7,4                                               </td></tr>\n",
       "\t<tr><th scope=row>10X82_2_TATCCCAGATGGCA-</th><td>10X82                                             </td><td>19565                                             </td><td>4901                                              </td><td>p21, p23                                          </td><td>Enteric                                           </td><td>Adolescent                                        </td><td>/Users/sten/build_20171205/L4_Enteric_Neurons.loom</td><td>1000                                              </td><td>1000                                              </td><td>10X82                                             </td><td>...                                               </td><td>19565                                             </td><td>1                                                 </td><td>32.21891                                          </td><td>57.54847                                          </td><td>-26.29803                                         </td><td>33.27314                                          </td><td>7.4                                               </td><td>Y                                                 </td><td>Y                                                 </td><td>7,4                                               </td></tr>\n",
       "\t<tr><th scope=row>10X82_2_ATTACGTATGAATG-</th><td>10X82                                             </td><td>30755                                             </td><td>6163                                              </td><td>p21, p23                                          </td><td>Enteric                                           </td><td>Adolescent                                        </td><td>/Users/sten/build_20171205/L4_Enteric_Neurons.loom</td><td>1000                                              </td><td>1000                                              </td><td>10X82                                             </td><td>...                                               </td><td>30755                                             </td><td>1                                                 </td><td>32.18717                                          </td><td>57.61263                                          </td><td>-26.15415                                         </td><td>33.87870                                          </td><td>7.4                                               </td><td>Y                                                 </td><td>Y                                                 </td><td>7,4                                               </td></tr>\n",
       "\t<tr><th scope=row>10X82_2_ATACGTCAATAAGG-</th><td>10X82                                             </td><td>16426                                             </td><td>4441                                              </td><td>p21, p23                                          </td><td>Enteric                                           </td><td>Adolescent                                        </td><td>/Users/sten/build_20171205/L4_Enteric_Neurons.loom</td><td>1000                                              </td><td>1000                                              </td><td>10X82                                             </td><td>...                                               </td><td>16426                                             </td><td>1                                                 </td><td>32.25465                                          </td><td>57.59190                                          </td><td>-25.97620                                         </td><td>32.50597                                          </td><td>7.4                                               </td><td>Y                                                 </td><td>Y                                                 </td><td>7,4                                               </td></tr>\n",
       "\t<tr><th scope=row>10X82_2_TACAGTCTTCGGTC-</th><td>10X82                                             </td><td>15563                                             </td><td>4177                                              </td><td>p21, p23                                          </td><td>Enteric                                           </td><td>Adolescent                                        </td><td>/Users/sten/build_20171205/L4_Enteric_Neurons.loom</td><td>1000                                              </td><td>1000                                              </td><td>10X82                                             </td><td>...                                               </td><td>15563                                             </td><td>1                                                 </td><td>32.19684                                          </td><td>57.72764                                          </td><td>-25.95060                                         </td><td>32.12762                                          </td><td>7.4                                               </td><td>Y                                                 </td><td>Y                                                 </td><td>7,4                                               </td></tr>\n",
       "</tbody>\n",
       "</table>\n"
      ],
      "text/latex": [
       "\\begin{tabular}{r|llllllllllllllllllllllllllllllllllllllllllllllllllllllllllllllllllllllllllllllllllllllllllllllllllllllllllllllllllllllllllllllll}\n",
       "  & orig.ident & nCount\\_RNA & nFeature\\_RNA & Age & AnalysisPool & AnalysisProject & Bucket & CellConc & Cell\\_Conc & ChipID & ... & X\\_Total & X\\_Valid & X\\_X & X\\_Y & X\\_tSNE1 & X\\_tSNE2 & cDNAConcNanogramPerMicroliter & cDNALibOk & cDNA\\_Lib\\_Ok & ngperul\\_cDNA\\\\\n",
       "\\hline\n",
       "\t10X82\\_2\\_TCTCTCACCAGTTA- & 10X82                                                    & 19065                                                    & 4966                                                     & p21, p23                                                 & Enteric                                                  & Adolescent                                               & /Users/sten/build\\_20171205/L4\\_Enteric\\_Neurons.loom & 1000                                                     & 1000                                                     & 10X82                                                    & ...                                                      & 19065                                                    & 1                                                        & 32.19325                                                 & 57.79691                                                 & -25.77720                                                & 33.12547                                                 & 7.4                                                      & Y                                                        & Y                                                        & 7,4                                                     \\\\\n",
       "\t10X82\\_2\\_TATTATCTACCAGA- & 10X82                                                    & 21617                                                    & 5170                                                     & p21, p23                                                 & Enteric                                                  & Adolescent                                               & /Users/sten/build\\_20171205/L4\\_Enteric\\_Neurons.loom & 1000                                                     & 1000                                                     & 10X82                                                    & ...                                                      & 21617                                                    & 1                                                        & 32.22355                                                 & 57.31415                                                 & -25.66751                                                & 33.25327                                                 & 7.4                                                      & Y                                                        & Y                                                        & 7,4                                                     \\\\\n",
       "\t10X82\\_2\\_TATCCCAGATGGCA- & 10X82                                                    & 19565                                                    & 4901                                                     & p21, p23                                                 & Enteric                                                  & Adolescent                                               & /Users/sten/build\\_20171205/L4\\_Enteric\\_Neurons.loom & 1000                                                     & 1000                                                     & 10X82                                                    & ...                                                      & 19565                                                    & 1                                                        & 32.21891                                                 & 57.54847                                                 & -26.29803                                                & 33.27314                                                 & 7.4                                                      & Y                                                        & Y                                                        & 7,4                                                     \\\\\n",
       "\t10X82\\_2\\_ATTACGTATGAATG- & 10X82                                                    & 30755                                                    & 6163                                                     & p21, p23                                                 & Enteric                                                  & Adolescent                                               & /Users/sten/build\\_20171205/L4\\_Enteric\\_Neurons.loom & 1000                                                     & 1000                                                     & 10X82                                                    & ...                                                      & 30755                                                    & 1                                                        & 32.18717                                                 & 57.61263                                                 & -26.15415                                                & 33.87870                                                 & 7.4                                                      & Y                                                        & Y                                                        & 7,4                                                     \\\\\n",
       "\t10X82\\_2\\_ATACGTCAATAAGG- & 10X82                                                    & 16426                                                    & 4441                                                     & p21, p23                                                 & Enteric                                                  & Adolescent                                               & /Users/sten/build\\_20171205/L4\\_Enteric\\_Neurons.loom & 1000                                                     & 1000                                                     & 10X82                                                    & ...                                                      & 16426                                                    & 1                                                        & 32.25465                                                 & 57.59190                                                 & -25.97620                                                & 32.50597                                                 & 7.4                                                      & Y                                                        & Y                                                        & 7,4                                                     \\\\\n",
       "\t10X82\\_2\\_TACAGTCTTCGGTC- & 10X82                                                    & 15563                                                    & 4177                                                     & p21, p23                                                 & Enteric                                                  & Adolescent                                               & /Users/sten/build\\_20171205/L4\\_Enteric\\_Neurons.loom & 1000                                                     & 1000                                                     & 10X82                                                    & ...                                                      & 15563                                                    & 1                                                        & 32.19684                                                 & 57.72764                                                 & -25.95060                                                & 32.12762                                                 & 7.4                                                      & Y                                                        & Y                                                        & 7,4                                                     \\\\\n",
       "\\end{tabular}\n"
      ],
      "text/markdown": [
       "\n",
       "| <!--/--> | orig.ident | nCount_RNA | nFeature_RNA | Age | AnalysisPool | AnalysisProject | Bucket | CellConc | Cell_Conc | ChipID | ... | X_Total | X_Valid | X_X | X_Y | X_tSNE1 | X_tSNE2 | cDNAConcNanogramPerMicroliter | cDNALibOk | cDNA_Lib_Ok | ngperul_cDNA |\n",
       "|---|---|---|---|---|---|---|---|---|---|---|---|---|---|---|---|---|---|---|---|---|---|\n",
       "| 10X82_2_TCTCTCACCAGTTA- | 10X82                                              | 19065                                              | 4966                                               | p21, p23                                           | Enteric                                            | Adolescent                                         | /Users/sten/build_20171205/L4_Enteric_Neurons.loom | 1000                                               | 1000                                               | 10X82                                              | ...                                                | 19065                                              | 1                                                  | 32.19325                                           | 57.79691                                           | -25.77720                                          | 33.12547                                           | 7.4                                                | Y                                                  | Y                                                  | 7,4                                                |\n",
       "| 10X82_2_TATTATCTACCAGA- | 10X82                                              | 21617                                              | 5170                                               | p21, p23                                           | Enteric                                            | Adolescent                                         | /Users/sten/build_20171205/L4_Enteric_Neurons.loom | 1000                                               | 1000                                               | 10X82                                              | ...                                                | 21617                                              | 1                                                  | 32.22355                                           | 57.31415                                           | -25.66751                                          | 33.25327                                           | 7.4                                                | Y                                                  | Y                                                  | 7,4                                                |\n",
       "| 10X82_2_TATCCCAGATGGCA- | 10X82                                              | 19565                                              | 4901                                               | p21, p23                                           | Enteric                                            | Adolescent                                         | /Users/sten/build_20171205/L4_Enteric_Neurons.loom | 1000                                               | 1000                                               | 10X82                                              | ...                                                | 19565                                              | 1                                                  | 32.21891                                           | 57.54847                                           | -26.29803                                          | 33.27314                                           | 7.4                                                | Y                                                  | Y                                                  | 7,4                                                |\n",
       "| 10X82_2_ATTACGTATGAATG- | 10X82                                              | 30755                                              | 6163                                               | p21, p23                                           | Enteric                                            | Adolescent                                         | /Users/sten/build_20171205/L4_Enteric_Neurons.loom | 1000                                               | 1000                                               | 10X82                                              | ...                                                | 30755                                              | 1                                                  | 32.18717                                           | 57.61263                                           | -26.15415                                          | 33.87870                                           | 7.4                                                | Y                                                  | Y                                                  | 7,4                                                |\n",
       "| 10X82_2_ATACGTCAATAAGG- | 10X82                                              | 16426                                              | 4441                                               | p21, p23                                           | Enteric                                            | Adolescent                                         | /Users/sten/build_20171205/L4_Enteric_Neurons.loom | 1000                                               | 1000                                               | 10X82                                              | ...                                                | 16426                                              | 1                                                  | 32.25465                                           | 57.59190                                           | -25.97620                                          | 32.50597                                           | 7.4                                                | Y                                                  | Y                                                  | 7,4                                                |\n",
       "| 10X82_2_TACAGTCTTCGGTC- | 10X82                                              | 15563                                              | 4177                                               | p21, p23                                           | Enteric                                            | Adolescent                                         | /Users/sten/build_20171205/L4_Enteric_Neurons.loom | 1000                                               | 1000                                               | 10X82                                              | ...                                                | 15563                                              | 1                                                  | 32.19684                                           | 57.72764                                           | -25.95060                                          | 32.12762                                           | 7.4                                                | Y                                                  | Y                                                  | 7,4                                                |\n",
       "\n"
      ],
      "text/plain": [
       "                        orig.ident nCount_RNA nFeature_RNA Age     \n",
       "10X82_2_TCTCTCACCAGTTA- 10X82      19065      4966         p21, p23\n",
       "10X82_2_TATTATCTACCAGA- 10X82      21617      5170         p21, p23\n",
       "10X82_2_TATCCCAGATGGCA- 10X82      19565      4901         p21, p23\n",
       "10X82_2_ATTACGTATGAATG- 10X82      30755      6163         p21, p23\n",
       "10X82_2_ATACGTCAATAAGG- 10X82      16426      4441         p21, p23\n",
       "10X82_2_TACAGTCTTCGGTC- 10X82      15563      4177         p21, p23\n",
       "                        AnalysisPool AnalysisProject\n",
       "10X82_2_TCTCTCACCAGTTA- Enteric      Adolescent     \n",
       "10X82_2_TATTATCTACCAGA- Enteric      Adolescent     \n",
       "10X82_2_TATCCCAGATGGCA- Enteric      Adolescent     \n",
       "10X82_2_ATTACGTATGAATG- Enteric      Adolescent     \n",
       "10X82_2_ATACGTCAATAAGG- Enteric      Adolescent     \n",
       "10X82_2_TACAGTCTTCGGTC- Enteric      Adolescent     \n",
       "                        Bucket                                            \n",
       "10X82_2_TCTCTCACCAGTTA- /Users/sten/build_20171205/L4_Enteric_Neurons.loom\n",
       "10X82_2_TATTATCTACCAGA- /Users/sten/build_20171205/L4_Enteric_Neurons.loom\n",
       "10X82_2_TATCCCAGATGGCA- /Users/sten/build_20171205/L4_Enteric_Neurons.loom\n",
       "10X82_2_ATTACGTATGAATG- /Users/sten/build_20171205/L4_Enteric_Neurons.loom\n",
       "10X82_2_ATACGTCAATAAGG- /Users/sten/build_20171205/L4_Enteric_Neurons.loom\n",
       "10X82_2_TACAGTCTTCGGTC- /Users/sten/build_20171205/L4_Enteric_Neurons.loom\n",
       "                        CellConc Cell_Conc ChipID ... X_Total X_Valid X_X     \n",
       "10X82_2_TCTCTCACCAGTTA- 1000     1000      10X82  ... 19065   1       32.19325\n",
       "10X82_2_TATTATCTACCAGA- 1000     1000      10X82  ... 21617   1       32.22355\n",
       "10X82_2_TATCCCAGATGGCA- 1000     1000      10X82  ... 19565   1       32.21891\n",
       "10X82_2_ATTACGTATGAATG- 1000     1000      10X82  ... 30755   1       32.18717\n",
       "10X82_2_ATACGTCAATAAGG- 1000     1000      10X82  ... 16426   1       32.25465\n",
       "10X82_2_TACAGTCTTCGGTC- 1000     1000      10X82  ... 15563   1       32.19684\n",
       "                        X_Y      X_tSNE1   X_tSNE2 \n",
       "10X82_2_TCTCTCACCAGTTA- 57.79691 -25.77720 33.12547\n",
       "10X82_2_TATTATCTACCAGA- 57.31415 -25.66751 33.25327\n",
       "10X82_2_TATCCCAGATGGCA- 57.54847 -26.29803 33.27314\n",
       "10X82_2_ATTACGTATGAATG- 57.61263 -26.15415 33.87870\n",
       "10X82_2_ATACGTCAATAAGG- 57.59190 -25.97620 32.50597\n",
       "10X82_2_TACAGTCTTCGGTC- 57.72764 -25.95060 32.12762\n",
       "                        cDNAConcNanogramPerMicroliter cDNALibOk cDNA_Lib_Ok\n",
       "10X82_2_TCTCTCACCAGTTA- 7.4                           Y         Y          \n",
       "10X82_2_TATTATCTACCAGA- 7.4                           Y         Y          \n",
       "10X82_2_TATCCCAGATGGCA- 7.4                           Y         Y          \n",
       "10X82_2_ATTACGTATGAATG- 7.4                           Y         Y          \n",
       "10X82_2_ATACGTCAATAAGG- 7.4                           Y         Y          \n",
       "10X82_2_TACAGTCTTCGGTC- 7.4                           Y         Y          \n",
       "                        ngperul_cDNA\n",
       "10X82_2_TCTCTCACCAGTTA- 7,4         \n",
       "10X82_2_TATTATCTACCAGA- 7,4         \n",
       "10X82_2_TATCCCAGATGGCA- 7,4         \n",
       "10X82_2_ATTACGTATGAATG- 7,4         \n",
       "10X82_2_ATACGTCAATAAGG- 7,4         \n",
       "10X82_2_TACAGTCTTCGGTC- 7,4         "
      ]
     },
     "metadata": {},
     "output_type": "display_data"
    }
   ],
   "source": [
    "head(zeis@meta.data)"
   ]
  },
  {
   "cell_type": "code",
   "execution_count": null,
   "metadata": {},
   "outputs": [],
   "source": [
    "## Check quality\n",
    "# Calculate and plot percentage of mitochondrial RNA;\n",
    "# number of different RNA, number of RNA "
   ]
  },
  {
   "cell_type": "code",
   "execution_count": 7,
   "metadata": {},
   "outputs": [],
   "source": [
    "\n",
    "zeis[['percent.mt']] <- PercentageFeatureSet(zeis, pattern='^Mt')"
   ]
  },
  {
   "cell_type": "code",
   "execution_count": 8,
   "metadata": {},
   "outputs": [
    {
     "data": {
      "text/html": [
       "71"
      ],
      "text/latex": [
       "71"
      ],
      "text/markdown": [
       "71"
      ],
      "text/plain": [
       "[1] 71"
      ]
     },
     "metadata": {},
     "output_type": "display_data"
    }
   ],
   "source": [
    "length(which(grepl(\"^Mt\", rownames(zeis))))"
   ]
  },
  {
   "cell_type": "code",
   "execution_count": 9,
   "metadata": {},
   "outputs": [],
   "source": [
    "zeis$new_col <- 'ID'"
   ]
  },
  {
   "cell_type": "code",
   "execution_count": 10,
   "metadata": {},
   "outputs": [],
   "source": [
    "Idents(zeis)<-'new_col'"
   ]
  },
  {
   "cell_type": "code",
   "execution_count": 16,
   "metadata": {},
   "outputs": [],
   "source": [
    "#visualize q\n",
    "VlnPlot<-VlnPlot(zeis, features=c('nCount_RNA', 'nFeature_RNA', 'percent.mt'), ncol=3)"
   ]
  },
  {
   "cell_type": "code",
   "execution_count": 27,
   "metadata": {},
   "outputs": [],
   "source": [
    "#get rid of cells\n",
    "zeis<-subset(zeis, subset=nFeature_RNA>200 & nFeature_RNA<7000 & nCount_RNA>200 & nCount_RNA<60000 & percent.mt<8)"
   ]
  },
  {
   "cell_type": "code",
   "execution_count": 13,
   "metadata": {},
   "outputs": [],
   "source": [
    "#normalize data\n",
    "zeis<-NormalizeData(zeis)"
   ]
  },
  {
   "cell_type": "code",
   "execution_count": 14,
   "metadata": {},
   "outputs": [],
   "source": [
    "#find most 2000 most variable genes\n",
    "zeis<-FindVariableFeatures(zeis, selection.method='vst', nfeatures=2000)"
   ]
  },
  {
   "cell_type": "code",
   "execution_count": 14,
   "metadata": {},
   "outputs": [],
   "source": [
    "#scale data\n",
    "all.genes=rownames(zeis)\n",
    "zeis<-ScaleData(zeis, features=all.genes)"
   ]
  },
  {
   "cell_type": "code",
   "execution_count": 19,
   "metadata": {},
   "outputs": [],
   "source": [
    "#save dataset\n",
    "saveRDS(zeis, file = \"/media/reuschenbach/Data/Masterthesis/Zeisel2018Normalized\")"
   ]
  },
  {
   "cell_type": "code",
   "execution_count": null,
   "metadata": {},
   "outputs": [],
   "source": []
  }
 ],
 "metadata": {
  "kernelspec": {
   "display_name": "R",
   "language": "R",
   "name": "ir"
  },
  "language_info": {
   "codemirror_mode": "r",
   "file_extension": ".r",
   "mimetype": "text/x-r-source",
   "name": "R",
   "pygments_lexer": "r",
   "version": "3.6.1"
  }
 },
 "nbformat": 4,
 "nbformat_minor": 4
}
